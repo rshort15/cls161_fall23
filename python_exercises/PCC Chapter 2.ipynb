{
 "cells": [
  {
   "cell_type": "markdown",
   "id": "b664a6e5",
   "metadata": {},
   "source": [
    "# Chapter 2-4 Homework"
   ]
  },
  {
   "cell_type": "markdown",
   "id": "b4b3a372",
   "metadata": {},
   "source": [
    "## 2-1"
   ]
  },
  {
   "cell_type": "code",
   "execution_count": 18,
   "id": "c3721841",
   "metadata": {},
   "outputs": [
    {
     "name": "stdout",
     "output_type": "stream",
     "text": [
      "I've already done this\n"
     ]
    }
   ],
   "source": [
    "# Rebecca 9/24 - Simple Message\n",
    "message = \"I've already done this\"\n",
    "print(message)"
   ]
  },
  {
   "cell_type": "markdown",
   "id": "04b25a85",
   "metadata": {},
   "source": [
    "2-2"
   ]
  },
  {
   "cell_type": "code",
   "execution_count": 19,
   "id": "1f323ed0",
   "metadata": {},
   "outputs": [
    {
     "name": "stdout",
     "output_type": "stream",
     "text": [
      "message 1\n"
     ]
    }
   ],
   "source": [
    "# Rebecca 9/24 - Simple Messages\n",
    "message = \"message 1\"\n",
    "print(message)"
   ]
  },
  {
   "cell_type": "code",
   "execution_count": 2,
   "id": "9a9272c3",
   "metadata": {},
   "outputs": [
    {
     "name": "stdout",
     "output_type": "stream",
     "text": [
      "message 2\n"
     ]
    }
   ],
   "source": [
    "message = \"message 2\"\n",
    "print(message)"
   ]
  },
  {
   "cell_type": "markdown",
   "id": "95d64943",
   "metadata": {},
   "source": [
    "# 2-3"
   ]
  },
  {
   "cell_type": "code",
   "execution_count": 20,
   "id": "427c3ddd",
   "metadata": {},
   "outputs": [],
   "source": [
    "# Rebecca 9/24 - Personal Message\n",
    "name = \"Rebecca\""
   ]
  },
  {
   "cell_type": "code",
   "execution_count": 8,
   "id": "829f98cd",
   "metadata": {},
   "outputs": [
    {
     "name": "stdout",
     "output_type": "stream",
     "text": [
      "Hello Rebecca\n"
     ]
    }
   ],
   "source": [
    "print(\"Hello \" + name.title())"
   ]
  },
  {
   "cell_type": "markdown",
   "id": "e46ad067",
   "metadata": {},
   "source": [
    "# 2-4"
   ]
  },
  {
   "cell_type": "code",
   "execution_count": 9,
   "id": "488e27ac",
   "metadata": {},
   "outputs": [],
   "source": [
    "# Rebecca 9/24 - Name Cases\n",
    "name = \"Rebecca\""
   ]
  },
  {
   "cell_type": "code",
   "execution_count": 10,
   "id": "c3f5ee22",
   "metadata": {},
   "outputs": [
    {
     "name": "stdout",
     "output_type": "stream",
     "text": [
      "REBECCA\n"
     ]
    }
   ],
   "source": [
    "print(name.upper())"
   ]
  },
  {
   "cell_type": "code",
   "execution_count": 11,
   "id": "1c27c2d1",
   "metadata": {},
   "outputs": [
    {
     "name": "stdout",
     "output_type": "stream",
     "text": [
      "rebecca\n"
     ]
    }
   ],
   "source": [
    "print(name.lower())"
   ]
  },
  {
   "cell_type": "code",
   "execution_count": 12,
   "id": "458aad2f",
   "metadata": {},
   "outputs": [
    {
     "name": "stdout",
     "output_type": "stream",
     "text": [
      "Rebecca\n"
     ]
    }
   ],
   "source": [
    "print(name.title())"
   ]
  },
  {
   "cell_type": "markdown",
   "id": "dbebf508",
   "metadata": {},
   "source": [
    "# 2-5"
   ]
  },
  {
   "cell_type": "code",
   "execution_count": 13,
   "id": "e09beaa9",
   "metadata": {},
   "outputs": [],
   "source": [
    "# Rebecca 9/24 - Famous Quote\n",
    "name = \"Oscar Wilde\""
   ]
  },
  {
   "cell_type": "code",
   "execution_count": 14,
   "id": "71c0f8c5",
   "metadata": {},
   "outputs": [
    {
     "ename": "SyntaxError",
     "evalue": "invalid syntax (1071715357.py, line 1)",
     "output_type": "error",
     "traceback": [
      "\u001b[0;36m  Cell \u001b[0;32mIn[14], line 1\u001b[0;36m\u001b[0m\n\u001b[0;31m    message = \"\"The books that the world calls immoral are books that show the world its own shame.\"\"\u001b[0m\n\u001b[0m                ^\u001b[0m\n\u001b[0;31mSyntaxError\u001b[0m\u001b[0;31m:\u001b[0m invalid syntax\n"
     ]
    }
   ],
   "source": [
    "message = \"\"The books that the world calls immoral are books that show the world its own shame.\"\""
   ]
  },
  {
   "cell_type": "code",
   "execution_count": 15,
   "id": "6c116d89",
   "metadata": {},
   "outputs": [],
   "source": [
    "message = \"“The books that the world calls immoral are books that show the world its own shame.”\""
   ]
  },
  {
   "cell_type": "code",
   "execution_count": 16,
   "id": "1938d742",
   "metadata": {},
   "outputs": [
    {
     "name": "stdout",
     "output_type": "stream",
     "text": [
      "Oscar Wilde once said “The books that the world calls immoral are books that show the world its own shame.”\n"
     ]
    }
   ],
   "source": [
    "print(name + \" once said \" + message)"
   ]
  },
  {
   "cell_type": "markdown",
   "id": "111efaaa",
   "metadata": {},
   "source": [
    "# 2-6"
   ]
  },
  {
   "cell_type": "code",
   "execution_count": 21,
   "id": "33514032",
   "metadata": {},
   "outputs": [],
   "source": [
    "# Rebecca 9/24 - Famous Quote 2\n",
    "famous_person = \"Oscar Wilde\""
   ]
  },
  {
   "cell_type": "code",
   "execution_count": 1,
   "id": "597668dc",
   "metadata": {},
   "outputs": [],
   "source": [
    "message = \"“The books that the world calls immoral are books that show the world its own shame.”\""
   ]
  },
  {
   "cell_type": "code",
   "execution_count": 2,
   "id": "b6f4a798",
   "metadata": {},
   "outputs": [
    {
     "ename": "NameError",
     "evalue": "name 'famous_person' is not defined",
     "output_type": "error",
     "traceback": [
      "\u001b[0;31m---------------------------------------------------------------------------\u001b[0m",
      "\u001b[0;31mNameError\u001b[0m                                 Traceback (most recent call last)",
      "Cell \u001b[0;32mIn[2], line 1\u001b[0m\n\u001b[0;32m----> 1\u001b[0m \u001b[38;5;28mprint\u001b[39m(famous_person \u001b[38;5;241m+\u001b[39m \u001b[38;5;124m\"\u001b[39m\u001b[38;5;124m once said \u001b[39m\u001b[38;5;124m\"\u001b[39m \u001b[38;5;241m+\u001b[39m message)\n",
      "\u001b[0;31mNameError\u001b[0m: name 'famous_person' is not defined"
     ]
    }
   ],
   "source": [
    "print(famous_person + \" once said \" + message)"
   ]
  },
  {
   "cell_type": "code",
   "execution_count": 3,
   "id": "1bc509a6",
   "metadata": {},
   "outputs": [],
   "source": [
    "famous_person = \"Oscar Wilde\""
   ]
  },
  {
   "cell_type": "code",
   "execution_count": 4,
   "id": "e838e012",
   "metadata": {},
   "outputs": [
    {
     "name": "stdout",
     "output_type": "stream",
     "text": [
      "Oscar Wildeonce said “The books that the world calls immoral are books that show the world its own shame.”\n"
     ]
    }
   ],
   "source": [
    "print(famous_person + \"once said “The books that the world calls immoral are books that show the world its own shame.”\")"
   ]
  },
  {
   "cell_type": "markdown",
   "id": "5e5a44d6",
   "metadata": {},
   "source": [
    "# 2-7"
   ]
  },
  {
   "cell_type": "code",
   "execution_count": 22,
   "id": "89f3e2ed",
   "metadata": {},
   "outputs": [
    {
     "name": "stdout",
     "output_type": "stream",
     "text": [
      "Rebecca\n"
     ]
    }
   ],
   "source": [
    "# Rebecca 9/24 - Stripping Names\n",
    "print(\"Rebecca\")"
   ]
  },
  {
   "cell_type": "code",
   "execution_count": 8,
   "id": "519cf123",
   "metadata": {},
   "outputs": [
    {
     "name": "stdout",
     "output_type": "stream",
     "text": [
      "\tRebecca\n"
     ]
    }
   ],
   "source": [
    "print(\"\\tRebecca\")"
   ]
  },
  {
   "cell_type": "code",
   "execution_count": 10,
   "id": "b2d956ae",
   "metadata": {},
   "outputs": [
    {
     "name": "stdout",
     "output_type": "stream",
     "text": [
      "Rebecca\n",
      "Rebecca\n"
     ]
    }
   ],
   "source": [
    "print(\"Rebecca\\nRebecca\")"
   ]
  },
  {
   "cell_type": "code",
   "execution_count": 11,
   "id": "21c188c9",
   "metadata": {},
   "outputs": [
    {
     "name": "stdout",
     "output_type": "stream",
     "text": [
      "  Rebecca  \n"
     ]
    }
   ],
   "source": [
    "print(\"  Rebecca  \")"
   ]
  },
  {
   "cell_type": "code",
   "execution_count": 13,
   "id": "772a6d0c",
   "metadata": {},
   "outputs": [
    {
     "name": "stdout",
     "output_type": "stream",
     "text": [
      "  Rebecca  \n"
     ]
    }
   ],
   "source": [
    "name = \"  Rebecca  \"\n",
    "print(name)"
   ]
  },
  {
   "cell_type": "code",
   "execution_count": 14,
   "id": "7cc6fe7b",
   "metadata": {},
   "outputs": [
    {
     "data": {
      "text/plain": [
       "'  Rebecca'"
      ]
     },
     "execution_count": 14,
     "metadata": {},
     "output_type": "execute_result"
    }
   ],
   "source": [
    "name.rstrip()"
   ]
  },
  {
   "cell_type": "code",
   "execution_count": 15,
   "id": "80bb830a",
   "metadata": {},
   "outputs": [
    {
     "data": {
      "text/plain": [
       "'Rebecca  '"
      ]
     },
     "execution_count": 15,
     "metadata": {},
     "output_type": "execute_result"
    }
   ],
   "source": [
    "name.lstrip()"
   ]
  },
  {
   "cell_type": "code",
   "execution_count": 16,
   "id": "a3ca7735",
   "metadata": {},
   "outputs": [
    {
     "data": {
      "text/plain": [
       "'Rebecca'"
      ]
     },
     "execution_count": 16,
     "metadata": {},
     "output_type": "execute_result"
    }
   ],
   "source": [
    "name.strip()"
   ]
  },
  {
   "cell_type": "markdown",
   "id": "bc390b66",
   "metadata": {},
   "source": [
    "# 2-10"
   ]
  },
  {
   "cell_type": "code",
   "execution_count": 23,
   "id": "c51977ad",
   "metadata": {},
   "outputs": [],
   "source": [
    "# Rebecca 9/24 - Comments"
   ]
  },
  {
   "cell_type": "markdown",
   "id": "2982cf97",
   "metadata": {},
   "source": [
    "# 3-1"
   ]
  },
  {
   "cell_type": "code",
   "execution_count": 24,
   "id": "401928c3",
   "metadata": {},
   "outputs": [],
   "source": [
    "friends = ['zoe', 'josh', 'grace', 'joe']"
   ]
  },
  {
   "cell_type": "code",
   "execution_count": 25,
   "id": "ebf27b6c",
   "metadata": {},
   "outputs": [
    {
     "name": "stdout",
     "output_type": "stream",
     "text": [
      "['zoe', 'josh', 'grace', 'joe']\n"
     ]
    }
   ],
   "source": [
    "print(friends)"
   ]
  },
  {
   "cell_type": "code",
   "execution_count": 28,
   "id": "63ae9c9b",
   "metadata": {},
   "outputs": [
    {
     "name": "stdout",
     "output_type": "stream",
     "text": [
      "zoe\n"
     ]
    }
   ],
   "source": [
    "print(friends[0])"
   ]
  },
  {
   "cell_type": "code",
   "execution_count": 29,
   "id": "bead72a2",
   "metadata": {},
   "outputs": [
    {
     "name": "stdout",
     "output_type": "stream",
     "text": [
      "josh\n"
     ]
    }
   ],
   "source": [
    "print(friends[1])"
   ]
  },
  {
   "cell_type": "code",
   "execution_count": 30,
   "id": "8d69d175",
   "metadata": {},
   "outputs": [
    {
     "name": "stdout",
     "output_type": "stream",
     "text": [
      "grace\n"
     ]
    }
   ],
   "source": [
    "print(friends[2])"
   ]
  },
  {
   "cell_type": "code",
   "execution_count": 31,
   "id": "20c9223f",
   "metadata": {},
   "outputs": [
    {
     "name": "stdout",
     "output_type": "stream",
     "text": [
      "joe\n"
     ]
    }
   ],
   "source": [
    "print(friends[3])"
   ]
  },
  {
   "cell_type": "markdown",
   "id": "d94851e9",
   "metadata": {},
   "source": [
    "# 3-2"
   ]
  },
  {
   "cell_type": "code",
   "execution_count": 32,
   "id": "464495f9",
   "metadata": {},
   "outputs": [],
   "source": [
    "friends = ['zoe', 'josh', 'grace', 'joe']"
   ]
  },
  {
   "cell_type": "code",
   "execution_count": 34,
   "id": "28b0f226",
   "metadata": {},
   "outputs": [
    {
     "name": "stdout",
     "output_type": "stream",
     "text": [
      "Hello, Zoe, how are you?\n"
     ]
    }
   ],
   "source": [
    "print(\"Hello, \" + friends[0].title() + \", how are you?\")"
   ]
  },
  {
   "cell_type": "code",
   "execution_count": 35,
   "id": "7c965837",
   "metadata": {},
   "outputs": [
    {
     "name": "stdout",
     "output_type": "stream",
     "text": [
      "Hello, Josh, how are you?\n"
     ]
    }
   ],
   "source": [
    "print(\"Hello, \" + friends[1].title() + \", how are you?\")"
   ]
  },
  {
   "cell_type": "code",
   "execution_count": 36,
   "id": "4c79308d",
   "metadata": {},
   "outputs": [
    {
     "name": "stdout",
     "output_type": "stream",
     "text": [
      "Hello, Grace, how are you?\n"
     ]
    }
   ],
   "source": [
    "print(\"Hello, \" + friends[2].title() + \", how are you?\")"
   ]
  },
  {
   "cell_type": "code",
   "execution_count": 37,
   "id": "12436dc3",
   "metadata": {},
   "outputs": [
    {
     "name": "stdout",
     "output_type": "stream",
     "text": [
      "Hello, Joe, how are you?\n"
     ]
    }
   ],
   "source": [
    "print(\"Hello, \" + friends[3].title() + \", how are you?\")"
   ]
  },
  {
   "cell_type": "markdown",
   "id": "1edfa39e",
   "metadata": {},
   "source": [
    "# 3-3"
   ]
  },
  {
   "cell_type": "code",
   "execution_count": 38,
   "id": "bba499a9",
   "metadata": {},
   "outputs": [],
   "source": [
    "car = ['honda', 'hiundai', 'ford', 'tesla']"
   ]
  },
  {
   "cell_type": "code",
   "execution_count": 40,
   "id": "556df6ee",
   "metadata": {},
   "outputs": [
    {
     "name": "stdout",
     "output_type": "stream",
     "text": [
      "My uncle has a Honda.\n"
     ]
    }
   ],
   "source": [
    "print(\"My uncle has a \" + car[0].title() + \".\")"
   ]
  },
  {
   "cell_type": "code",
   "execution_count": 41,
   "id": "50cd53e1",
   "metadata": {},
   "outputs": [
    {
     "name": "stdout",
     "output_type": "stream",
     "text": [
      "My mom has a Hiundai.\n"
     ]
    }
   ],
   "source": [
    "print(\"My mom has a \" + car[1].title() + \".\")"
   ]
  },
  {
   "cell_type": "code",
   "execution_count": 43,
   "id": "97555016",
   "metadata": {},
   "outputs": [
    {
     "name": "stdout",
     "output_type": "stream",
     "text": [
      "I would like a Ford.\n"
     ]
    }
   ],
   "source": [
    "print(\"I would like a \" + car[2].title() + \".\")"
   ]
  },
  {
   "cell_type": "code",
   "execution_count": 44,
   "id": "e5733dd2",
   "metadata": {},
   "outputs": [
    {
     "name": "stdout",
     "output_type": "stream",
     "text": [
      "But I would prefer a Tesla.\n"
     ]
    }
   ],
   "source": [
    "print(\"But I would prefer a \" + car[3].title() + \".\")"
   ]
  },
  {
   "cell_type": "code",
   "execution_count": 45,
   "id": "b293a7ba",
   "metadata": {},
   "outputs": [],
   "source": [
    "message = \"But I would prefer a \" + car[3].title() + \".\""
   ]
  },
  {
   "cell_type": "code",
   "execution_count": 46,
   "id": "0a431d4b",
   "metadata": {},
   "outputs": [
    {
     "name": "stdout",
     "output_type": "stream",
     "text": [
      "But I would prefer a Tesla.\n"
     ]
    }
   ],
   "source": [
    "print(message)"
   ]
  },
  {
   "cell_type": "markdown",
   "id": "934c9e47",
   "metadata": {},
   "source": [
    "# 3-4"
   ]
  },
  {
   "cell_type": "code",
   "execution_count": 47,
   "id": "8bbf996c",
   "metadata": {},
   "outputs": [],
   "source": [
    "guests = ['Oscar Wilde', 'Jane Austin', 'Ocean Vuong', 'Carmen Maria Machado']"
   ]
  },
  {
   "cell_type": "code",
   "execution_count": 48,
   "id": "52983178",
   "metadata": {},
   "outputs": [],
   "source": [
    "message = guests[1] + \", would you like to come to dinner on Sunday?\""
   ]
  },
  {
   "cell_type": "code",
   "execution_count": 49,
   "id": "6215666e",
   "metadata": {},
   "outputs": [
    {
     "name": "stdout",
     "output_type": "stream",
     "text": [
      "Jane Austin, would you like to come to dinner on Sunday?\n"
     ]
    }
   ],
   "source": [
    "print(message)"
   ]
  },
  {
   "cell_type": "code",
   "execution_count": 51,
   "id": "cf2e356a",
   "metadata": {},
   "outputs": [
    {
     "name": "stdout",
     "output_type": "stream",
     "text": [
      "Oscar Wilde, would you like to come to dinner on Sunday?\n"
     ]
    }
   ],
   "source": [
    "message = guests[0] + \", would you like to come to dinner on Sunday?\"\n",
    "print(message)"
   ]
  },
  {
   "cell_type": "code",
   "execution_count": 52,
   "id": "6f9ea3d7",
   "metadata": {},
   "outputs": [
    {
     "name": "stdout",
     "output_type": "stream",
     "text": [
      "Ocean Vuong, would you like to come to dinner on Sunday?\n"
     ]
    }
   ],
   "source": [
    "message = guests[2] + \", would you like to come to dinner on Sunday?\"\n",
    "print(message)"
   ]
  },
  {
   "cell_type": "code",
   "execution_count": 53,
   "id": "c104d610",
   "metadata": {},
   "outputs": [
    {
     "name": "stdout",
     "output_type": "stream",
     "text": [
      "Carmen Maria Machado, would you like to come to dinner on Sunday?\n"
     ]
    }
   ],
   "source": [
    "message = guests[3] + \", would you like to come to dinner on Sunday?\"\n",
    "print(message)"
   ]
  },
  {
   "cell_type": "markdown",
   "id": "778edff7",
   "metadata": {},
   "source": [
    "# 3-5"
   ]
  },
  {
   "cell_type": "code",
   "execution_count": 54,
   "id": "d3c301c3",
   "metadata": {},
   "outputs": [],
   "source": [
    "# Oscar Wilde can't make it"
   ]
  },
  {
   "cell_type": "code",
   "execution_count": 60,
   "id": "74ecd307",
   "metadata": {},
   "outputs": [],
   "source": [
    "message = \"Unfortanetely, \" + guests[0] + \" can't make it to the dinner.\""
   ]
  },
  {
   "cell_type": "code",
   "execution_count": 61,
   "id": "469d0606",
   "metadata": {},
   "outputs": [
    {
     "name": "stdout",
     "output_type": "stream",
     "text": [
      "Unfortanetely, Oscar Wilde can't make it to the dinner.\n"
     ]
    }
   ],
   "source": [
    "print(message)"
   ]
  },
  {
   "cell_type": "code",
   "execution_count": 63,
   "id": "e83ebacb",
   "metadata": {},
   "outputs": [],
   "source": [
    "guests[0] = 'Ovid'"
   ]
  },
  {
   "cell_type": "code",
   "execution_count": 64,
   "id": "34d25250",
   "metadata": {},
   "outputs": [
    {
     "name": "stdout",
     "output_type": "stream",
     "text": [
      "Ovid, would you like to come to dinner on Sunday?\n"
     ]
    }
   ],
   "source": [
    "message = guests[0] + \", would you like to come to dinner on Sunday?\"\n",
    "print(message)"
   ]
  },
  {
   "cell_type": "code",
   "execution_count": 65,
   "id": "f51d1051",
   "metadata": {},
   "outputs": [
    {
     "name": "stdout",
     "output_type": "stream",
     "text": [
      "Jane Austin, would you like to come to dinner on Sunday?\n"
     ]
    }
   ],
   "source": [
    "message = guests[1] + \", would you like to come to dinner on Sunday?\"\n",
    "print(message)"
   ]
  },
  {
   "cell_type": "code",
   "execution_count": 66,
   "id": "6500a58e",
   "metadata": {},
   "outputs": [
    {
     "name": "stdout",
     "output_type": "stream",
     "text": [
      "Ocean Vuong, would you like to come to dinner on Sunday?\n"
     ]
    }
   ],
   "source": [
    "message = guests[2] + \", would you like to come to dinner on Sunday?\"\n",
    "print(message)"
   ]
  },
  {
   "cell_type": "code",
   "execution_count": 67,
   "id": "2e3d5ef7",
   "metadata": {},
   "outputs": [
    {
     "name": "stdout",
     "output_type": "stream",
     "text": [
      "Carmen Maria Machado, would you like to come to dinner on Sunday?\n"
     ]
    }
   ],
   "source": [
    "message = guests[3] + \", would you like to come to dinner on Sunday?\"\n",
    "print(message)"
   ]
  },
  {
   "cell_type": "markdown",
   "id": "b9e26666",
   "metadata": {},
   "source": [
    "# 3-6"
   ]
  },
  {
   "cell_type": "code",
   "execution_count": 68,
   "id": "fdb79c15",
   "metadata": {
    "scrolled": true
   },
   "outputs": [
    {
     "name": "stdout",
     "output_type": "stream",
     "text": [
      "I found a new table, so I can invite more of you now!\n"
     ]
    }
   ],
   "source": [
    "message = \"I found a new table, so I can invite more of you now!\"\n",
    "print(message)"
   ]
  },
  {
   "cell_type": "code",
   "execution_count": 69,
   "id": "1179a545",
   "metadata": {},
   "outputs": [],
   "source": [
    "guests.insert(0, 'Charle Dickens')"
   ]
  },
  {
   "cell_type": "code",
   "execution_count": 70,
   "id": "d355b367",
   "metadata": {},
   "outputs": [],
   "source": [
    "guests.insert(2, 'Catullus')"
   ]
  },
  {
   "cell_type": "code",
   "execution_count": 71,
   "id": "14f94bcb",
   "metadata": {},
   "outputs": [],
   "source": [
    "guests.append('Rick Riordan')"
   ]
  },
  {
   "cell_type": "code",
   "execution_count": 72,
   "id": "12d0bfda",
   "metadata": {},
   "outputs": [
    {
     "name": "stdout",
     "output_type": "stream",
     "text": [
      "Charle Dickens, would you like to come to dinner on Sunday?\n"
     ]
    }
   ],
   "source": [
    "message = guests[0] + \", would you like to come to dinner on Sunday?\"\n",
    "print(message)"
   ]
  },
  {
   "cell_type": "code",
   "execution_count": 73,
   "id": "5f3226d8",
   "metadata": {},
   "outputs": [
    {
     "name": "stdout",
     "output_type": "stream",
     "text": [
      "Ovid, would you like to come to dinner on Sunday?\n"
     ]
    }
   ],
   "source": [
    "message = guests[1] + \", would you like to come to dinner on Sunday?\"\n",
    "print(message)"
   ]
  },
  {
   "cell_type": "code",
   "execution_count": 74,
   "id": "7647d01b",
   "metadata": {},
   "outputs": [
    {
     "name": "stdout",
     "output_type": "stream",
     "text": [
      "Catullus, would you like to come to dinner on Sunday?\n"
     ]
    }
   ],
   "source": [
    "message = guests[2] + \", would you like to come to dinner on Sunday?\"\n",
    "print(message)"
   ]
  },
  {
   "cell_type": "code",
   "execution_count": 75,
   "id": "6dbf4df4",
   "metadata": {},
   "outputs": [
    {
     "name": "stdout",
     "output_type": "stream",
     "text": [
      "Jane Austin, would you like to come to dinner on Sunday?\n"
     ]
    }
   ],
   "source": [
    "message = guests[3] + \", would you like to come to dinner on Sunday?\"\n",
    "print(message)"
   ]
  },
  {
   "cell_type": "code",
   "execution_count": 76,
   "id": "21cdbee2",
   "metadata": {},
   "outputs": [
    {
     "name": "stdout",
     "output_type": "stream",
     "text": [
      "Ocean Vuong, would you like to come to dinner on Sunday?\n"
     ]
    }
   ],
   "source": [
    "message = guests[4] + \", would you like to come to dinner on Sunday?\"\n",
    "print(message)"
   ]
  },
  {
   "cell_type": "code",
   "execution_count": 77,
   "id": "d0bc9cc3",
   "metadata": {},
   "outputs": [
    {
     "name": "stdout",
     "output_type": "stream",
     "text": [
      "Carmen Maria Machado, would you like to come to dinner on Sunday?\n"
     ]
    }
   ],
   "source": [
    "message = guests[5] + \", would you like to come to dinner on Sunday?\"\n",
    "print(message)"
   ]
  },
  {
   "cell_type": "code",
   "execution_count": 94,
   "id": "854922b5",
   "metadata": {},
   "outputs": [
    {
     "ename": "IndexError",
     "evalue": "list index out of range",
     "output_type": "error",
     "traceback": [
      "\u001b[0;31m---------------------------------------------------------------------------\u001b[0m",
      "\u001b[0;31mIndexError\u001b[0m                                Traceback (most recent call last)",
      "Cell \u001b[0;32mIn[94], line 1\u001b[0m\n\u001b[0;32m----> 1\u001b[0m message \u001b[38;5;241m=\u001b[39m guests[\u001b[38;5;241m6\u001b[39m] \u001b[38;5;241m+\u001b[39m \u001b[38;5;124m\"\u001b[39m\u001b[38;5;124m, would you like to come to dinner on Sunday?\u001b[39m\u001b[38;5;124m\"\u001b[39m\n\u001b[1;32m      2\u001b[0m \u001b[38;5;28mprint\u001b[39m(message)\n",
      "\u001b[0;31mIndexError\u001b[0m: list index out of range"
     ]
    }
   ],
   "source": [
    "message = guests[6] + \", would you like to come to dinner on Sunday?\"\n",
    "print(message)\n",
    "# I accidentally pressed enter on this code after having done 3-7, \n",
    "# so there is an error message but it worked the first time.  "
   ]
  },
  {
   "cell_type": "markdown",
   "id": "c0910a44",
   "metadata": {},
   "source": [
    "# 3-7"
   ]
  },
  {
   "cell_type": "code",
   "execution_count": 92,
   "id": "b6b0e156",
   "metadata": {},
   "outputs": [
    {
     "name": "stdout",
     "output_type": "stream",
     "text": [
      "Unfortantely, the table won't be here in time, so I can only invite 2 people.\n"
     ]
    }
   ],
   "source": [
    "message = \"Unfortantely, the table won't be here in time, so I can only invite 2 people.\"\n",
    "print(message)"
   ]
  },
  {
   "cell_type": "code",
   "execution_count": 142,
   "id": "4bdf5bb1",
   "metadata": {},
   "outputs": [],
   "source": [
    "guests = ['Charles Dickens', 'Ovid', 'Catullus', 'Jane Austin', 'Ocean Vuong', 'Carmen Maria Machado', 'Rick Riordan']"
   ]
  },
  {
   "cell_type": "code",
   "execution_count": 143,
   "id": "f976cacb",
   "metadata": {},
   "outputs": [
    {
     "name": "stdout",
     "output_type": "stream",
     "text": [
      "['Charles Dickens', 'Ovid', 'Catullus', 'Jane Austin', 'Ocean Vuong', 'Carmen Maria Machado', 'Rick Riordan']\n"
     ]
    }
   ],
   "source": [
    "print(guests)"
   ]
  },
  {
   "cell_type": "code",
   "execution_count": 144,
   "id": "7c6da375",
   "metadata": {},
   "outputs": [
    {
     "name": "stdout",
     "output_type": "stream",
     "text": [
      "['Ovid', 'Catullus', 'Jane Austin', 'Ocean Vuong', 'Carmen Maria Machado', 'Rick Riordan']\n"
     ]
    }
   ],
   "source": [
    "popped_guests = guests.pop(0)\n",
    "print(guests)"
   ]
  },
  {
   "cell_type": "code",
   "execution_count": 145,
   "id": "e653164c",
   "metadata": {},
   "outputs": [
    {
     "name": "stdout",
     "output_type": "stream",
     "text": [
      "I'm sorry, Charles Dickens, but I will have to retract my invitation.\n"
     ]
    }
   ],
   "source": [
    "message = \"I'm sorry, Charles Dickens, but I will have to retract my invitation.\"\n",
    "print(message)"
   ]
  },
  {
   "cell_type": "code",
   "execution_count": 146,
   "id": "70728855",
   "metadata": {},
   "outputs": [
    {
     "name": "stdout",
     "output_type": "stream",
     "text": [
      "['Catullus', 'Jane Austin', 'Ocean Vuong', 'Carmen Maria Machado', 'Rick Riordan']\n",
      "I'm sorry, Ovid, but I will have to retract my invitation.\n"
     ]
    }
   ],
   "source": [
    "popped_guests = guests.pop(0)\n",
    "print(guests)\n",
    "message = \"I'm sorry, Ovid, but I will have to retract my invitation.\"\n",
    "print(message)"
   ]
  },
  {
   "cell_type": "code",
   "execution_count": 147,
   "id": "ac6ad499",
   "metadata": {},
   "outputs": [
    {
     "name": "stdout",
     "output_type": "stream",
     "text": [
      "['Jane Austin', 'Ocean Vuong', 'Carmen Maria Machado', 'Rick Riordan']\n",
      "I'm sorry, Catullus, but I will have to retract my invitation.\n"
     ]
    }
   ],
   "source": [
    "popped_guests = guests.pop(0)\n",
    "print(guests)\n",
    "message = \"I'm sorry, Catullus, but I will have to retract my invitation.\"\n",
    "print(message)"
   ]
  },
  {
   "cell_type": "code",
   "execution_count": 148,
   "id": "4a18645d",
   "metadata": {},
   "outputs": [
    {
     "name": "stdout",
     "output_type": "stream",
     "text": [
      "['Ocean Vuong', 'Carmen Maria Machado', 'Rick Riordan']\n",
      "I'm sorry, Jane Austin, but I will have to retract my invitation.\n"
     ]
    }
   ],
   "source": [
    "popped_guests = guests.pop(0)\n",
    "print(guests)\n",
    "message = \"I'm sorry, Jane Austin, but I will have to retract my invitation.\"\n",
    "print(message)"
   ]
  },
  {
   "cell_type": "code",
   "execution_count": 149,
   "id": "f78155d1",
   "metadata": {},
   "outputs": [
    {
     "name": "stdout",
     "output_type": "stream",
     "text": [
      "['Carmen Maria Machado', 'Rick Riordan']\n",
      "I'm sorry, Ocean Vuong, but I will have to retract my invitation.\n"
     ]
    }
   ],
   "source": [
    "popped_guests = guests.pop(0)\n",
    "print(guests)\n",
    "message = \"I'm sorry, Ocean Vuong, but I will have to retract my invitation.\"\n",
    "print(message)"
   ]
  },
  {
   "cell_type": "code",
   "execution_count": 150,
   "id": "3c9e2b7a",
   "metadata": {},
   "outputs": [
    {
     "name": "stdout",
     "output_type": "stream",
     "text": [
      "Rick Riordan, you are still invited to dinner!\n"
     ]
    }
   ],
   "source": [
    "message = guests[1] + \", you are still invited to dinner!\"\n",
    "print(message)"
   ]
  },
  {
   "cell_type": "code",
   "execution_count": 151,
   "id": "04a6c21c",
   "metadata": {},
   "outputs": [
    {
     "name": "stdout",
     "output_type": "stream",
     "text": [
      "Carmen Maria Machado, you are still invited to dinner!\n"
     ]
    }
   ],
   "source": [
    "message = guests[0] + \", you are still invited to dinner!\"\n",
    "print(message)"
   ]
  },
  {
   "cell_type": "code",
   "execution_count": 152,
   "id": "72c7ca89",
   "metadata": {},
   "outputs": [],
   "source": [
    "del guests[0]"
   ]
  },
  {
   "cell_type": "code",
   "execution_count": 153,
   "id": "42d57e20",
   "metadata": {},
   "outputs": [],
   "source": [
    "del guests[0]"
   ]
  },
  {
   "cell_type": "code",
   "execution_count": 154,
   "id": "1ea80ecb",
   "metadata": {},
   "outputs": [
    {
     "name": "stdout",
     "output_type": "stream",
     "text": [
      "[]\n"
     ]
    }
   ],
   "source": [
    "print(guests)"
   ]
  },
  {
   "cell_type": "markdown",
   "id": "38104e03",
   "metadata": {},
   "source": [
    "# 3-8"
   ]
  },
  {
   "cell_type": "code",
   "execution_count": 189,
   "id": "f92e61e5",
   "metadata": {},
   "outputs": [],
   "source": [
    "places = ['London', 'Kyoto', 'Rome', 'Taipei', 'Madrid']"
   ]
  },
  {
   "cell_type": "code",
   "execution_count": 161,
   "id": "0db048db",
   "metadata": {},
   "outputs": [
    {
     "name": "stdout",
     "output_type": "stream",
     "text": [
      "['London', 'Kyoto', 'Rome', 'Taipei', 'Madrid']\n"
     ]
    }
   ],
   "source": [
    "print(places)"
   ]
  },
  {
   "cell_type": "code",
   "execution_count": 162,
   "id": "61805662",
   "metadata": {},
   "outputs": [
    {
     "name": "stdout",
     "output_type": "stream",
     "text": [
      "['Kyoto', 'London', 'Madrid', 'Rome', 'Taipei']\n"
     ]
    }
   ],
   "source": [
    "print(sorted(places))"
   ]
  },
  {
   "cell_type": "code",
   "execution_count": 177,
   "id": "46ec02e5",
   "metadata": {},
   "outputs": [
    {
     "name": "stdout",
     "output_type": "stream",
     "text": [
      "['London', 'Kyoto', 'Rome', 'Taipei', 'Madrid']\n"
     ]
    }
   ],
   "source": [
    "print(places)"
   ]
  },
  {
   "cell_type": "code",
   "execution_count": 193,
   "id": "35a26f97",
   "metadata": {},
   "outputs": [
    {
     "name": "stdout",
     "output_type": "stream",
     "text": [
      "['Taipei', 'Rome', 'Madrid', 'London', 'Kyoto']\n"
     ]
    }
   ],
   "source": [
    "# I couldn't figure out how do reverse the list not permanently\n",
    "# so I reversed it permanently (just went on to the next bullet point)\n",
    "places.sort(reverse=True)\n",
    "print(places)"
   ]
  },
  {
   "cell_type": "code",
   "execution_count": 190,
   "id": "06f94c99",
   "metadata": {},
   "outputs": [
    {
     "name": "stdout",
     "output_type": "stream",
     "text": [
      "None\n"
     ]
    }
   ],
   "source": [
    "print(places.sort(reverse=True))"
   ]
  },
  {
   "cell_type": "code",
   "execution_count": 191,
   "id": "de9bbae9",
   "metadata": {},
   "outputs": [
    {
     "name": "stdout",
     "output_type": "stream",
     "text": [
      "['Taipei', 'Rome', 'Madrid', 'London', 'Kyoto']\n"
     ]
    }
   ],
   "source": [
    "print(places)"
   ]
  },
  {
   "cell_type": "code",
   "execution_count": 196,
   "id": "efaadf38",
   "metadata": {},
   "outputs": [
    {
     "name": "stdout",
     "output_type": "stream",
     "text": [
      "['Taipei', 'Rome', 'Madrid', 'London', 'Kyoto']\n"
     ]
    }
   ],
   "source": [
    "places.reverse()\n",
    "print(places)"
   ]
  },
  {
   "cell_type": "code",
   "execution_count": 197,
   "id": "cc916b69",
   "metadata": {},
   "outputs": [
    {
     "name": "stdout",
     "output_type": "stream",
     "text": [
      "['Kyoto', 'London', 'Madrid', 'Rome', 'Taipei']\n"
     ]
    }
   ],
   "source": [
    "places.reverse()\n",
    "print(places)"
   ]
  },
  {
   "cell_type": "code",
   "execution_count": 198,
   "id": "2e79d10e",
   "metadata": {},
   "outputs": [
    {
     "name": "stdout",
     "output_type": "stream",
     "text": [
      "['Kyoto', 'London', 'Madrid', 'Rome', 'Taipei']\n"
     ]
    }
   ],
   "source": [
    "places.sort()\n",
    "print(places)"
   ]
  },
  {
   "cell_type": "code",
   "execution_count": 199,
   "id": "4127e161",
   "metadata": {},
   "outputs": [
    {
     "name": "stdout",
     "output_type": "stream",
     "text": [
      "['Taipei', 'Rome', 'Madrid', 'London', 'Kyoto']\n"
     ]
    }
   ],
   "source": [
    "places.reverse()\n",
    "print(places)"
   ]
  },
  {
   "cell_type": "markdown",
   "id": "ab822806",
   "metadata": {},
   "source": [
    "# 4-1"
   ]
  },
  {
   "cell_type": "code",
   "execution_count": 200,
   "id": "ad9d9824",
   "metadata": {},
   "outputs": [],
   "source": [
    "pizzas = ['cheese', 'peperoni', 'mushroom']"
   ]
  },
  {
   "cell_type": "code",
   "execution_count": 212,
   "id": "5aa0fd95",
   "metadata": {},
   "outputs": [
    {
     "name": "stdout",
     "output_type": "stream",
     "text": [
      "cheese\n",
      "peperoni\n",
      "mushroom\n"
     ]
    }
   ],
   "source": [
    "for pizza in pizzas:\n",
    "    print(pizza)"
   ]
  },
  {
   "cell_type": "code",
   "execution_count": 216,
   "id": "dfacf9dc",
   "metadata": {},
   "outputs": [
    {
     "name": "stdout",
     "output_type": "stream",
     "text": [
      "Cheese pizza is really good!\n",
      "Peperoni pizza is really good!\n",
      "Mushroom pizza is really good!\n"
     ]
    }
   ],
   "source": [
    "for pizza in pizzas:\n",
    "    print(pizza.title() + \" pizza is really good!\")"
   ]
  },
  {
   "cell_type": "code",
   "execution_count": 223,
   "id": "2d8a2abd",
   "metadata": {},
   "outputs": [
    {
     "name": "stdout",
     "output_type": "stream",
     "text": [
      "Cheese pizza was at the birthday party last night.\n",
      "It was really good!\n",
      "Peperoni pizza was at the birthday party last night.\n",
      "It was really good!\n",
      "Mushroom pizza was at the birthday party last night.\n",
      "It was really good!\n"
     ]
    }
   ],
   "source": [
    "pizzas = ['cheese', 'peperoni', 'mushroom']\n",
    "for pizza in pizzas:\n",
    "    print(pizza.title() + \" pizza was at the birthday party last night.\")\n",
    "    print(\"It was really good!\")"
   ]
  },
  {
   "cell_type": "markdown",
   "id": "cf02f872",
   "metadata": {},
   "source": [
    "# 4-2"
   ]
  },
  {
   "cell_type": "code",
   "execution_count": 224,
   "id": "4ec6b456",
   "metadata": {},
   "outputs": [],
   "source": [
    "animals = ['dogs', 'cats', 'birds']"
   ]
  },
  {
   "cell_type": "code",
   "execution_count": 225,
   "id": "9c68dfbe",
   "metadata": {},
   "outputs": [
    {
     "name": "stdout",
     "output_type": "stream",
     "text": [
      "dogs\n",
      "cats\n",
      "birds\n"
     ]
    }
   ],
   "source": [
    "for animal in animals:\n",
    "    print(animal)"
   ]
  },
  {
   "cell_type": "code",
   "execution_count": 226,
   "id": "1bb3c104",
   "metadata": {},
   "outputs": [
    {
     "name": "stdout",
     "output_type": "stream",
     "text": [
      "Dogs are great pets!\n",
      "Cats are great pets!\n",
      "Birds are great pets!\n"
     ]
    }
   ],
   "source": [
    "for animal in animals:\n",
    "    print(animal.title() + \" are great pets!\")"
   ]
  },
  {
   "cell_type": "code",
   "execution_count": 227,
   "id": "c5094aed",
   "metadata": {},
   "outputs": [
    {
     "name": "stdout",
     "output_type": "stream",
     "text": [
      "Dogs are great pets!\n",
      "Turtles are great pets too!\n",
      "Cats are great pets!\n",
      "Turtles are great pets too!\n",
      "Birds are great pets!\n",
      "Turtles are great pets too!\n"
     ]
    }
   ],
   "source": [
    "for animal in animals:\n",
    "    print(animal.title() + \" are great pets!\")\n",
    "    print(\"Turtles are great pets too!\")"
   ]
  },
  {
   "cell_type": "markdown",
   "id": "9ac78af5",
   "metadata": {},
   "source": [
    "# 4-3"
   ]
  },
  {
   "cell_type": "code",
   "execution_count": 228,
   "id": "b7b30d7d",
   "metadata": {},
   "outputs": [
    {
     "name": "stdout",
     "output_type": "stream",
     "text": [
      "1\n",
      "2\n",
      "3\n",
      "4\n",
      "5\n",
      "6\n",
      "7\n",
      "8\n",
      "9\n",
      "10\n",
      "11\n",
      "12\n",
      "13\n",
      "14\n",
      "15\n",
      "16\n",
      "17\n",
      "18\n",
      "19\n",
      "20\n"
     ]
    }
   ],
   "source": [
    "for value in range (1,21):\n",
    "    print(value)"
   ]
  },
  {
   "cell_type": "markdown",
   "id": "713a63e6",
   "metadata": {},
   "source": [
    "# 4-6"
   ]
  },
  {
   "cell_type": "code",
   "execution_count": 232,
   "id": "49cfc003",
   "metadata": {},
   "outputs": [
    {
     "name": "stdout",
     "output_type": "stream",
     "text": [
      "[-1, 1, 3, 5, 7, 9, 11, 13, 15, 17, 19]\n"
     ]
    }
   ],
   "source": [
    "odd_numbers = list(range(-1,20,2))\n",
    "print(odd_numbers)"
   ]
  },
  {
   "cell_type": "code",
   "execution_count": 237,
   "id": "de0590b4",
   "metadata": {},
   "outputs": [
    {
     "name": "stdout",
     "output_type": "stream",
     "text": [
      "-1\n",
      "1\n",
      "3\n",
      "5\n",
      "7\n",
      "9\n",
      "11\n",
      "13\n",
      "15\n",
      "17\n",
      "19\n"
     ]
    }
   ],
   "source": [
    "for value in list(range(-1,20,2)):\n",
    "    print(value)\n"
   ]
  },
  {
   "cell_type": "markdown",
   "id": "c3eed210",
   "metadata": {},
   "source": [
    "# 4-10"
   ]
  },
  {
   "cell_type": "code",
   "execution_count": 238,
   "id": "8a80fca9",
   "metadata": {},
   "outputs": [],
   "source": [
    "places = ['London', 'Kyoto', 'Rome', 'Taipei', 'Madrid']"
   ]
  },
  {
   "cell_type": "code",
   "execution_count": 239,
   "id": "1da74d73",
   "metadata": {},
   "outputs": [
    {
     "name": "stdout",
     "output_type": "stream",
     "text": [
      "The first three items on the list are \n",
      "['London', 'Kyoto', 'Rome']\n"
     ]
    }
   ],
   "source": [
    "print(\"The first three items on the list are \")\n",
    "print(places[0:3])"
   ]
  },
  {
   "cell_type": "code",
   "execution_count": 241,
   "id": "2b5852ab",
   "metadata": {},
   "outputs": [
    {
     "name": "stdout",
     "output_type": "stream",
     "text": [
      "Three items from the middle of the list are:\n",
      "['Kyoto', 'Rome', 'Taipei']\n"
     ]
    }
   ],
   "source": [
    "print(\"Three items from the middle of the list are:\")\n",
    "print(places[1:4])"
   ]
  },
  {
   "cell_type": "code",
   "execution_count": 243,
   "id": "d049bd40",
   "metadata": {},
   "outputs": [
    {
     "name": "stdout",
     "output_type": "stream",
     "text": [
      "The last three items in the list are:\n",
      "['Rome', 'Taipei', 'Madrid']\n"
     ]
    }
   ],
   "source": [
    "print(\"The last three items in the list are:\")\n",
    "print(places[2:5])"
   ]
  },
  {
   "cell_type": "markdown",
   "id": "a3cc9d0a",
   "metadata": {},
   "source": [
    "# 4-11"
   ]
  },
  {
   "cell_type": "code",
   "execution_count": 255,
   "id": "6cb89e68",
   "metadata": {},
   "outputs": [],
   "source": [
    "pizzas = ['cheese', 'peperoni', 'mushroom']"
   ]
  },
  {
   "cell_type": "code",
   "execution_count": 259,
   "id": "0481ea9f",
   "metadata": {},
   "outputs": [],
   "source": [
    "friend_pizzas = ['cheese', 'peperoni', 'mushroom']"
   ]
  },
  {
   "cell_type": "code",
   "execution_count": 256,
   "id": "adcdda41",
   "metadata": {},
   "outputs": [],
   "source": [
    "pizzas.insert(0, 'pesto chicken')"
   ]
  },
  {
   "cell_type": "code",
   "execution_count": 257,
   "id": "f2d42e2c",
   "metadata": {},
   "outputs": [
    {
     "name": "stdout",
     "output_type": "stream",
     "text": [
      "['pesto chicken', 'cheese', 'peperoni', 'mushroom']\n"
     ]
    }
   ],
   "source": [
    "print(pizzas)"
   ]
  },
  {
   "cell_type": "code",
   "execution_count": 260,
   "id": "de0ef2f6",
   "metadata": {},
   "outputs": [
    {
     "name": "stdout",
     "output_type": "stream",
     "text": [
      "['cheese', 'peperoni', 'mushroom']\n"
     ]
    }
   ],
   "source": [
    "print(friend_pizzas)"
   ]
  },
  {
   "cell_type": "code",
   "execution_count": 261,
   "id": "9057af9f",
   "metadata": {},
   "outputs": [],
   "source": [
    "friend_pizzas.insert(0, 'buffalo chicken')"
   ]
  },
  {
   "cell_type": "code",
   "execution_count": 262,
   "id": "aea76db3",
   "metadata": {},
   "outputs": [
    {
     "name": "stdout",
     "output_type": "stream",
     "text": [
      "My favorite pizzas are:\n",
      "Pesto Chicken\n",
      "Cheese\n",
      "Peperoni\n",
      "Mushroom\n"
     ]
    }
   ],
   "source": [
    "print(\"My favorite pizzas are:\")\n",
    "for pizza in pizzas:\n",
    "    print(pizza.title())"
   ]
  },
  {
   "cell_type": "code",
   "execution_count": 264,
   "id": "c6a15177",
   "metadata": {},
   "outputs": [
    {
     "name": "stdout",
     "output_type": "stream",
     "text": [
      "My favorite pizzas are:\n",
      "Buffalo Chicken\n",
      "Cheese\n",
      "Peperoni\n",
      "Mushroom\n"
     ]
    }
   ],
   "source": [
    "print(\"My favorite pizzas are:\")\n",
    "for friend_pizza in friend_pizzas:\n",
    "    print(friend_pizza.title())"
   ]
  },
  {
   "cell_type": "code",
   "execution_count": null,
   "id": "364eeff2",
   "metadata": {},
   "outputs": [],
   "source": []
  }
 ],
 "metadata": {
  "kernelspec": {
   "display_name": "Python 3 (ipykernel)",
   "language": "python",
   "name": "python3"
  },
  "language_info": {
   "codemirror_mode": {
    "name": "ipython",
    "version": 3
   },
   "file_extension": ".py",
   "mimetype": "text/x-python",
   "name": "python",
   "nbconvert_exporter": "python",
   "pygments_lexer": "ipython3",
   "version": "3.11.4"
  }
 },
 "nbformat": 4,
 "nbformat_minor": 5
}
