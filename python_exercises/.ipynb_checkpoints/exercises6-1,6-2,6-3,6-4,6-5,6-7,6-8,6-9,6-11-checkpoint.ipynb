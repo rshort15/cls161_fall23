{
 "cells": [
  {
   "cell_type": "markdown",
   "id": "c7ae4849",
   "metadata": {},
   "source": [
    "6-1. Person: Use a dictionary to store information about a person you know. Store their first name, last name, age, and the city in which they live. You should have keys such as first_name, last_name, age, and city. Print each piece of information stored in your dictionary."
   ]
  },
  {
   "cell_type": "code",
   "execution_count": 1,
   "id": "261173fc",
   "metadata": {},
   "outputs": [],
   "source": [
    "person = {'first_name': 'Zoe', 'last_name': 'Haralambidis', 'age': 20, 'hometown': 'Oak Park'}"
   ]
  },
  {
   "cell_type": "code",
   "execution_count": 2,
   "id": "814c0329",
   "metadata": {},
   "outputs": [
    {
     "name": "stdout",
     "output_type": "stream",
     "text": [
      "Zoe\n"
     ]
    }
   ],
   "source": [
    "print(person['first_name'])"
   ]
  },
  {
   "cell_type": "code",
   "execution_count": 3,
   "id": "e0003cd8",
   "metadata": {},
   "outputs": [
    {
     "name": "stdout",
     "output_type": "stream",
     "text": [
      "Haralambidis\n"
     ]
    }
   ],
   "source": [
    "print(person['last_name'])"
   ]
  },
  {
   "cell_type": "code",
   "execution_count": 4,
   "id": "4dcbbf07",
   "metadata": {},
   "outputs": [
    {
     "name": "stdout",
     "output_type": "stream",
     "text": [
      "20\n"
     ]
    }
   ],
   "source": [
    "print(person['age'])"
   ]
  },
  {
   "cell_type": "code",
   "execution_count": 5,
   "id": "5b6656e5",
   "metadata": {},
   "outputs": [
    {
     "name": "stdout",
     "output_type": "stream",
     "text": [
      "Oak Park\n"
     ]
    }
   ],
   "source": [
    "print(person['hometown'])"
   ]
  },
  {
   "cell_type": "markdown",
   "id": "825e0120",
   "metadata": {},
   "source": [
    "6-2. Favorite Numbers: Use a dictionary to store people’s favorite numbers. Think of five names, and use them as keys in your dictionary. Think of a favorite number for each person, and store each as a value in your dictionary. Print each person’s name and their favorite number. For even more fun, poll a few friends and get some actual data for your program."
   ]
  },
  {
   "cell_type": "code",
   "execution_count": 35,
   "id": "deb3ff47",
   "metadata": {},
   "outputs": [],
   "source": [
    "favorite_numbers = {\n",
    "    'Henry': 6, \n",
    "    'Sally': 13, \n",
    "    'Andrew': 27, \n",
    "    'Michael': 108, \n",
    "    'Nancy': 32,\n",
    "    }\n"
   ]
  },
  {
   "cell_type": "code",
   "execution_count": 13,
   "id": "e356e794",
   "metadata": {},
   "outputs": [
    {
     "name": "stdout",
     "output_type": "stream",
     "text": [
      "dict_items([('Henry', 6), ('Sally', 13), ('Andrew', 27), ('Michael', 108), ('Nancy', 32)])\n"
     ]
    }
   ],
   "source": [
    "print(favorite_numbers.items())"
   ]
  },
  {
   "cell_type": "code",
   "execution_count": 37,
   "id": "47598468",
   "metadata": {},
   "outputs": [
    {
     "name": "stdout",
     "output_type": "stream",
     "text": [
      "Henry\n",
      "Sally\n",
      "Andrew\n",
      "Michael\n",
      "Nancy\n"
     ]
    }
   ],
   "source": [
    "for key in favorite_numbers.keys():\n",
    "    print(key)"
   ]
  },
  {
   "cell_type": "code",
   "execution_count": 39,
   "id": "a3b9792e",
   "metadata": {},
   "outputs": [
    {
     "name": "stdout",
     "output_type": "stream",
     "text": [
      "6\n",
      "13\n",
      "27\n",
      "108\n",
      "32\n"
     ]
    }
   ],
   "source": [
    "for v in favorite_numbers.values():\n",
    "    print(v)"
   ]
  },
  {
   "cell_type": "code",
   "execution_count": 41,
   "id": "47e09c2f",
   "metadata": {},
   "outputs": [
    {
     "name": "stdout",
     "output_type": "stream",
     "text": [
      "Henry 6\n",
      "Sally 13\n",
      "Andrew 27\n",
      "Michael 108\n",
      "Nancy 32\n"
     ]
    }
   ],
   "source": [
    "for k, v in favorite_numbers.items():\n",
    "    print(k, v)"
   ]
  },
  {
   "cell_type": "markdown",
   "id": "6d1984ac",
   "metadata": {},
   "source": [
    "6-3. Glossary: A Python dictionary can be used to model an actual dictionary. However, to avoid confusion, let’s call it a glossary.\n",
    "\n",
    "Think of five programming words you’ve learned about in the previous chapters. Use these words as the keys in your glossary, and store their meanings as values.\n",
    "Print each word and its meaning as neatly formatted output. You might print the word followed by a colon and then its meaning, or print the word on one line and then print its meaning indented on a second line. Use the newline character (\\n) to insert a blank line between each word-meaning pair in your output."
   ]
  },
  {
   "cell_type": "code",
   "execution_count": 60,
   "id": "f4283b47",
   "metadata": {},
   "outputs": [],
   "source": [
    "python_glossary = {'list': 'a structure that stores multiple items in a single variable', 'string': 'sequence of characters', 'dictionary': 'a collection of key value pairs', 'boolean': 'a variable that is true or false', 'repository': 'a location where files are stored'}"
   ]
  },
  {
   "cell_type": "code",
   "execution_count": 56,
   "id": "d7a3e49c",
   "metadata": {},
   "outputs": [
    {
     "name": "stdout",
     "output_type": "stream",
     "text": [
      "List: a structure that stores multiple items in a single variable.\n",
      "\n",
      "String: sequence of characters.\n",
      "\n",
      "Dictionary: a collection of key value pairs.\n",
      "\n",
      "Boolean: a variable that is true or false.\n",
      "\n",
      "Repository: a location where files are stored.\n"
     ]
    }
   ],
   "source": [
    "## I'm not sure if I did this correctly\n",
    "python_glossary = {'list': 'a structure that stores multiple items in a single variable'}\n",
    "print(f\"List: {python_glossary['list']}.\")\n",
    "\n",
    "python_glossary = {'string': 'sequence of characters'}\n",
    "print(f\"\\nString: {python_glossary['string']}.\")\n",
    "\n",
    "python_glossary = {'dictionary': 'a collection of key value pairs'}\n",
    "print(f\"\\nDictionary: {python_glossary['dictionary']}.\")\n",
    "\n",
    "python_glossary = {'boolean': 'a variable that is true or false'}\n",
    "print(f\"\\nBoolean: {python_glossary['boolean']}.\")\n",
    "\n",
    "python_glossary = {'repository': 'a location where files are stored'}\n",
    "print(f\"\\nRepository: {python_glossary['repository']}.\")\n"
   ]
  },
  {
   "cell_type": "markdown",
   "id": "a5322deb",
   "metadata": {},
   "source": [
    "6-4. Glossary 2: Now that you know how to loop through a dictionary, clean up the code from Exercise 6-3 (page 99) by replacing your series of print() calls with a loop that runs through the dictionary’s keys and values. When you’re sure that your loop works, add five more Python terms to your glossary. When you run your program again, these new words and meanings should automatically be included in the output."
   ]
  },
  {
   "cell_type": "code",
   "execution_count": 48,
   "id": "fd1308a9",
   "metadata": {},
   "outputs": [
    {
     "name": "stdout",
     "output_type": "stream",
     "text": [
      "\n",
      "Term: list\n",
      "Definition: a structure that stores multiple items in a single variable\n",
      "\n",
      "Term: string\n",
      "Definition: sequence of characters\n",
      "\n",
      "Term: dictionary\n",
      "Definition: a collection of key value pairs\n",
      "\n",
      "Term: boolean\n",
      "Definition: a variable that is true or false\n",
      "\n",
      "Term: repository\n",
      "Definition: a location where files are stored\n"
     ]
    }
   ],
   "source": [
    "for k, v in python_glossary.items():\n",
    "    print(f\"\\nTerm: {k}\")\n",
    "    print(f\"Definition: {v}\")"
   ]
  },
  {
   "cell_type": "code",
   "execution_count": 61,
   "id": "f757d48e",
   "metadata": {},
   "outputs": [],
   "source": [
    "python_glossary[\"key\"] = \"the way you access values in a dictionary\"\n",
    "python_glossary[\"value\"] = \"an element of a dictionary that you access with a key\"\n",
    "python_glossary[\"loop\"] = \"a way to repeat over a sequence until a condition is satisfied\"\n",
    "python_glossary[\"tuple\"] = \"similar to a list, but you cannot update the values\"\n",
    "python_glossary[\"commit\"] = \"to merge the work you made on Jupyter with the repository\""
   ]
  },
  {
   "cell_type": "code",
   "execution_count": 62,
   "id": "a27ebc41",
   "metadata": {},
   "outputs": [
    {
     "name": "stdout",
     "output_type": "stream",
     "text": [
      "\n",
      "Term: list\n",
      "Definition: a structure that stores multiple items in a single variable\n",
      "\n",
      "Term: string\n",
      "Definition: sequence of characters\n",
      "\n",
      "Term: dictionary\n",
      "Definition: a collection of key value pairs\n",
      "\n",
      "Term: boolean\n",
      "Definition: a variable that is true or false\n",
      "\n",
      "Term: repository\n",
      "Definition: a location where files are stored\n",
      "\n",
      "Term: key\n",
      "Definition: the way you access values in a dictionary\n",
      "\n",
      "Term: value\n",
      "Definition: an element of a dictionary that you access with a key\n",
      "\n",
      "Term: loop\n",
      "Definition: a way to repeat over a sequence until a condition is satisfied\n",
      "\n",
      "Term: tuple\n",
      "Definition: similar to a list, but you cannot update the values\n",
      "\n",
      "Term: commit\n",
      "Definition: to merge the work you made on Jupyter with the repository\n"
     ]
    }
   ],
   "source": [
    "for k, v in python_glossary.items():\n",
    "    print(f\"\\nTerm: {k}\")\n",
    "    print(f\"Definition: {v}\")"
   ]
  },
  {
   "cell_type": "markdown",
   "id": "a183ce77",
   "metadata": {},
   "source": [
    "6-5. Rivers: Make a dictionary containing three major rivers and the country each river runs through. One key-value pair might be 'nile': 'egypt'.\n",
    "\n",
    "Use a loop to print a sentence about each river, such as The Nile runs through Egypt.\n",
    "Use a loop to print the name of each river included in the dictionary.\n",
    "Use a loop to print the name of each country included in the dictionary."
   ]
  },
  {
   "cell_type": "code",
   "execution_count": 65,
   "id": "d34a65d4",
   "metadata": {},
   "outputs": [],
   "source": [
    "rivers_dictionary = {\"Nile\": \"Egypt\", \"James\": \"U.S.\", \"Ganges\": \"India\"}"
   ]
  },
  {
   "cell_type": "code",
   "execution_count": 69,
   "id": "3229c6b7",
   "metadata": {},
   "outputs": [
    {
     "name": "stdout",
     "output_type": "stream",
     "text": [
      "\n",
      "The Nile River runs through Egypt.\n",
      "\n",
      "The James River runs through U.S..\n",
      "\n",
      "The Ganges River runs through India.\n"
     ]
    }
   ],
   "source": [
    "for k, v in rivers_dictionary.items():\n",
    "    print(f\"\\nThe {k} River runs through {v}.\")"
   ]
  },
  {
   "cell_type": "code",
   "execution_count": 70,
   "id": "afc6d993",
   "metadata": {},
   "outputs": [
    {
     "name": "stdout",
     "output_type": "stream",
     "text": [
      "Nile\n",
      "James\n",
      "Ganges\n"
     ]
    }
   ],
   "source": [
    "for key in rivers_dictionary.keys():\n",
    "    print(key)"
   ]
  },
  {
   "cell_type": "code",
   "execution_count": 71,
   "id": "71726e27",
   "metadata": {},
   "outputs": [
    {
     "name": "stdout",
     "output_type": "stream",
     "text": [
      "Egypt\n",
      "U.S.\n",
      "India\n"
     ]
    }
   ],
   "source": [
    "for v in rivers_dictionary.values():\n",
    "    print(v)"
   ]
  },
  {
   "cell_type": "markdown",
   "id": "eb294a3c",
   "metadata": {},
   "source": [
    "6-7. People: Start with the program you wrote for Exercise 6-1 (page 99). Make two new dictionaries representing different people, and store all three dictionaries in a list called people. Loop through your list of people. As you loop through the list, print everything you know about each person."
   ]
  },
  {
   "cell_type": "code",
   "execution_count": 72,
   "id": "5ec449ee",
   "metadata": {},
   "outputs": [],
   "source": [
    "person_1 = {'first_name': 'Zoe', 'last_name': 'Haralambidis', 'age': 20, 'hometown': 'Oak Park'}"
   ]
  },
  {
   "cell_type": "code",
   "execution_count": null,
   "id": "ad5386c4",
   "metadata": {},
   "outputs": [],
   "source": [
    "person_2 = {'first_name': 'Rebecca', 'last_name': 'Short', 'age': 20, 'hometown': 'Chesterfield'}"
   ]
  },
  {
   "cell_type": "code",
   "execution_count": 76,
   "id": "9322d0f5",
   "metadata": {},
   "outputs": [],
   "source": [
    "person_3 = {'first_name': 'Cathy', 'last_name': 'Short', 'age': 55, 'hometown': 'Chesterfield'}"
   ]
  },
  {
   "cell_type": "code",
   "execution_count": 77,
   "id": "41758690",
   "metadata": {},
   "outputs": [],
   "source": [
    "people = [person_1, person_2, person_3]"
   ]
  },
  {
   "cell_type": "code",
   "execution_count": 78,
   "id": "6ea2916e",
   "metadata": {},
   "outputs": [
    {
     "name": "stdout",
     "output_type": "stream",
     "text": [
      "{'Name': 'Rebecca', 'Age': 20, 'Major': 'English'}\n",
      "{'Name': 'Zoe', 'Age': 20, 'Major': 'Math'}\n",
      "{'first_name': 'Cathy', 'last_name': 'Short', 'age': 55, 'hometown': 'Chesterfield'}\n"
     ]
    }
   ],
   "source": [
    "for person in people:\n",
    "    print(person)"
   ]
  },
  {
   "cell_type": "markdown",
   "id": "ce52c5c1",
   "metadata": {},
   "source": [
    "6-8. Pets: Make several dictionaries, where each dictionary represents a different pet. In each dictionary, include the kind of animal and the owner’s name. Store these dictionaries in a list called pets. Next, loop through your list and as you do, print everything you know about each pet."
   ]
  },
  {
   "cell_type": "code",
   "execution_count": 79,
   "id": "50f352ae",
   "metadata": {},
   "outputs": [],
   "source": [
    "pet_1 = {'type': 'cat', 'owners_name': 'Jasmine'}"
   ]
  },
  {
   "cell_type": "code",
   "execution_count": 80,
   "id": "fd1ad672",
   "metadata": {},
   "outputs": [],
   "source": [
    "pet_2 = {'type': 'dog', 'owners_name': 'Gabby'}\n"
   ]
  },
  {
   "cell_type": "code",
   "execution_count": 81,
   "id": "95176316",
   "metadata": {},
   "outputs": [],
   "source": [
    "pet_3 = {'type': 'turtle', 'owners_name': 'Andrew'}"
   ]
  },
  {
   "cell_type": "code",
   "execution_count": 82,
   "id": "bfd6123b",
   "metadata": {},
   "outputs": [],
   "source": [
    "pets = [pet_1, pet_2, pet_3]"
   ]
  },
  {
   "cell_type": "code",
   "execution_count": 83,
   "id": "258b2f29",
   "metadata": {},
   "outputs": [
    {
     "name": "stdout",
     "output_type": "stream",
     "text": [
      "{'type': 'cat', 'owners_name': 'Jasmine'}\n",
      "{'type': 'dog', 'owners_name': 'Gabby'}\n",
      "{'type': 'turtle', 'owners_name': 'Andrew'}\n"
     ]
    }
   ],
   "source": [
    "for pet in pets:\n",
    "    print(pet)"
   ]
  },
  {
   "cell_type": "markdown",
   "id": "83234cca",
   "metadata": {},
   "source": [
    "6-9. Favorite Places: Make a dictionary called favorite_places. Think of three names to use as keys in the dictionary, and store one to three favorite places for each person. To make this exercise a bit more interesting, ask some friends to name a few of their favorite places. Loop through the dictionary, and print each person’s name and their favorite places."
   ]
  },
  {
   "cell_type": "code",
   "execution_count": 87,
   "id": "daa632fc",
   "metadata": {},
   "outputs": [],
   "source": [
    "favorite_places = {\"Gabby\": [\"London\", \"Paris\"], \"Jasmine\": [\"Atlanta\", \"San Francisco\"], \"Andrew\": \"Minneapolis\"}"
   ]
  },
  {
   "cell_type": "code",
   "execution_count": 92,
   "id": "188b1b1a",
   "metadata": {},
   "outputs": [
    {
     "name": "stdout",
     "output_type": "stream",
     "text": [
      "\n",
      "Gabby's favorite place/places is/are London and Paris.\n",
      "\n",
      "Jasmine's favorite place/places is/are Atlanta and San Francisco.\n",
      "\n",
      "Andrew's favorite place/places is/are Minneapolis.\n"
     ]
    }
   ],
   "source": [
    "for k, v in favorite_places.items():\n",
    "    print(f\"\\n{k}'s favorite place/places is/are {v}.\")"
   ]
  },
  {
   "cell_type": "markdown",
   "id": "4ac7b81e",
   "metadata": {},
   "source": [
    "6-11. Cities: Make a dictionary called cities. Use the names of three cities as keys in your dictionary. Create a dictionary of information about each city and include the country that the city is in, its approximate population, and one fact about that city. The keys for each city’s dictionary should be something like country, population, and fact. Print the name of each city and all of the information you have stored about it."
   ]
  },
  {
   "cell_type": "code",
   "execution_count": 99,
   "id": "86dfd104",
   "metadata": {},
   "outputs": [],
   "source": [
    "cities = {\n",
    "    \"Madrid\" : {\n",
    "        \"country\": \"Spain\",\n",
    "        \"population\": \"3.223 million\",\n",
    "        \"fun_fact\": \"Madrid is the capital of Spain.\",\n",
    "    },\n",
    "    \"London\": {\n",
    "        \"country\": \"England\",\n",
    "        \"population\": \"8.982 million\",\n",
    "        \"fun_fact\": \"London is double the size of New York.\",\n",
    "    },\n",
    "    \"Boston\": {\n",
    "        \"country\": \"United States\",\n",
    "        \"population\": \"654,776\",\n",
    "        \"fun_fact\": \"The first dunkin donuts shop was built near Boston.\",\n",
    "    },\n",
    "}"
   ]
  },
  {
   "cell_type": "code",
   "execution_count": 108,
   "id": "c2f00526",
   "metadata": {},
   "outputs": [
    {
     "name": "stdout",
     "output_type": "stream",
     "text": [
      "\n",
      "City: ('Madrid', {'country': 'Spain', 'population': '3.223 million', 'fun_fact': 'Madrid is the capital of Spain.'})\n",
      "\n",
      "City: ('London', {'country': 'England', 'population': '8.982 million', 'fun_fact': 'London is double the size of New York.'})\n",
      "\n",
      "City: ('Boston', {'country': 'United States', 'population': '654,776', 'fun_fact': 'The first dunkin donuts shop was built near Boston.'})\n"
     ]
    }
   ],
   "source": [
    "for city in cities.items():\n",
    "    print(f\"\\nCity: {city}\")\n",
    "## Not sure how to format this correctly"
   ]
  },
  {
   "cell_type": "code",
   "execution_count": 114,
   "id": "9e1caab0",
   "metadata": {},
   "outputs": [
    {
     "name": "stdout",
     "output_type": "stream",
     "text": [
      "\n",
      "City: Madrid\n"
     ]
    },
    {
     "ename": "TypeError",
     "evalue": "'tuple' object is not callable",
     "output_type": "error",
     "traceback": [
      "\u001b[0;31m---------------------------------------------------------------------------\u001b[0m",
      "\u001b[0;31mTypeError\u001b[0m                                 Traceback (most recent call last)",
      "Cell \u001b[0;32mIn[114], line 3\u001b[0m\n\u001b[1;32m      1\u001b[0m \u001b[38;5;28;01mfor\u001b[39;00m k, v \u001b[38;5;129;01min\u001b[39;00m cities\u001b[38;5;241m.\u001b[39mitems():\n\u001b[1;32m      2\u001b[0m     \u001b[38;5;28mprint\u001b[39m(\u001b[38;5;124mf\u001b[39m\u001b[38;5;124m\"\u001b[39m\u001b[38;5;130;01m\\n\u001b[39;00m\u001b[38;5;124mCity: \u001b[39m\u001b[38;5;132;01m{\u001b[39;00mk\u001b[38;5;132;01m}\u001b[39;00m\u001b[38;5;124m\"\u001b[39m)\n\u001b[0;32m----> 3\u001b[0m     \u001b[38;5;28mprint\u001b[39m(\u001b[38;5;124mf\u001b[39m\u001b[38;5;124m\"\u001b[39m\u001b[38;5;124mCountry: \u001b[39m\u001b[38;5;132;01m{\u001b[39;00mcity(\u001b[38;5;241m0\u001b[39m)\u001b[38;5;132;01m}\u001b[39;00m\u001b[38;5;124m\"\u001b[39m)\n",
      "\u001b[0;31mTypeError\u001b[0m: 'tuple' object is not callable"
     ]
    }
   ],
   "source": [
    "for k, v in cities.items():\n",
    "    print(f\"\\nCity: {k}\")\n",
    "    print(f\"Country: {city(0)}\")"
   ]
  },
  {
   "cell_type": "code",
   "execution_count": null,
   "id": "9d03e23e",
   "metadata": {},
   "outputs": [],
   "source": []
  }
 ],
 "metadata": {
  "kernelspec": {
   "display_name": "Python 3 (ipykernel)",
   "language": "python",
   "name": "python3"
  },
  "language_info": {
   "codemirror_mode": {
    "name": "ipython",
    "version": 3
   },
   "file_extension": ".py",
   "mimetype": "text/x-python",
   "name": "python",
   "nbconvert_exporter": "python",
   "pygments_lexer": "ipython3",
   "version": "3.11.4"
  }
 },
 "nbformat": 4,
 "nbformat_minor": 5
}
