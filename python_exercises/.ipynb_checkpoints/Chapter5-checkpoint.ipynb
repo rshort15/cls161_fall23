{
 "cells": [
  {
   "cell_type": "markdown",
   "id": "a320757a",
   "metadata": {},
   "source": [
    "# 5-1"
   ]
  },
  {
   "cell_type": "markdown",
   "id": "c3997195",
   "metadata": {},
   "source": [
    "5-1. Conditional Tests: Write a series of conditional tests. Print a statement describing each test and your prediction for the results of each test. Your code should look something like this:"
   ]
  },
  {
   "cell_type": "markdown",
   "id": "ee835369",
   "metadata": {},
   "source": [
    "-Look closely at your results, and make sure you understand why each line evaluates to True or False.\n",
    "-Create at least ten tests. Have at least five tests evaluate to True and another five tests evaluate to False."
   ]
  },
  {
   "cell_type": "markdown",
   "id": "1c76474a",
   "metadata": {},
   "source": [
    "ex. car = 'subaru'\n",
    "print(\"Is car == 'subaru'? I predict True.\")\n",
    "print(car == 'subaru')\n",
    "\n",
    "print(\"\\nIs car == 'audi'? I predict False.\")\n",
    "print(car == 'audi')"
   ]
  },
  {
   "cell_type": "code",
   "execution_count": 8,
   "id": "4fc4720d",
   "metadata": {},
   "outputs": [],
   "source": [
    "pet = 'dog'"
   ]
  },
  {
   "cell_type": "code",
   "execution_count": 3,
   "id": "ad13e9da",
   "metadata": {},
   "outputs": [
    {
     "data": {
      "text/plain": [
       "True"
      ]
     },
     "execution_count": 3,
     "metadata": {},
     "output_type": "execute_result"
    }
   ],
   "source": [
    "pet == 'dog'\n",
    "# I predict true"
   ]
  },
  {
   "cell_type": "code",
   "execution_count": 4,
   "id": "a0a65214",
   "metadata": {},
   "outputs": [
    {
     "data": {
      "text/plain": [
       "'dog'"
      ]
     },
     "execution_count": 4,
     "metadata": {},
     "output_type": "execute_result"
    }
   ],
   "source": [
    "pet"
   ]
  },
  {
   "cell_type": "code",
   "execution_count": 9,
   "id": "dbd2471e",
   "metadata": {},
   "outputs": [
    {
     "data": {
      "text/plain": [
       "False"
      ]
     },
     "execution_count": 9,
     "metadata": {},
     "output_type": "execute_result"
    }
   ],
   "source": [
    "pet.upper() == 'Dog'\n",
    "# I don't understand why this isn't true? ****"
   ]
  },
  {
   "cell_type": "code",
   "execution_count": 10,
   "id": "28364d2b",
   "metadata": {},
   "outputs": [],
   "source": [
    "pet = 'Dog'"
   ]
  },
  {
   "cell_type": "code",
   "execution_count": 11,
   "id": "165027e4",
   "metadata": {},
   "outputs": [
    {
     "data": {
      "text/plain": [
       "True"
      ]
     },
     "execution_count": 11,
     "metadata": {},
     "output_type": "execute_result"
    }
   ],
   "source": [
    "pet.lower() == 'dog'\n",
    "# I predict true"
   ]
  },
  {
   "cell_type": "code",
   "execution_count": 13,
   "id": "4307d5dd",
   "metadata": {},
   "outputs": [
    {
     "name": "stdout",
     "output_type": "stream",
     "text": [
      "Yay\n"
     ]
    }
   ],
   "source": [
    "requested_pet = 'cat'\n",
    "if requested_pet == 'cat':\n",
    "    print(\"Yay\")\n",
    "# I predict that the if statement will be true."
   ]
  },
  {
   "cell_type": "code",
   "execution_count": 18,
   "id": "33a4e473",
   "metadata": {},
   "outputs": [],
   "source": []
  },
  {
   "cell_type": "code",
   "execution_count": 19,
   "id": "b87957c7",
   "metadata": {},
   "outputs": [],
   "source": [
    "# Here are my 10 Statements"
   ]
  },
  {
   "cell_type": "code",
   "execution_count": 24,
   "id": "058e3956",
   "metadata": {},
   "outputs": [
    {
     "name": "stdout",
     "output_type": "stream",
     "text": [
      "Is pet == 'cat'? I predict True.\n",
      "True\n"
     ]
    }
   ],
   "source": [
    "pet = 'cat'\n",
    "print(\"Is pet == 'cat'? I predict True.\")\n",
    "print(pet == 'cat')"
   ]
  },
  {
   "cell_type": "code",
   "execution_count": 25,
   "id": "7af5aa6e",
   "metadata": {},
   "outputs": [
    {
     "name": "stdout",
     "output_type": "stream",
     "text": [
      "Is pet != 'cat'? I predict False.\n",
      "False\n"
     ]
    }
   ],
   "source": [
    "print(\"Is pet != 'cat'? I predict False.\")\n",
    "print(pet != 'cat')"
   ]
  },
  {
   "cell_type": "code",
   "execution_count": 27,
   "id": "3e0e400f",
   "metadata": {},
   "outputs": [
    {
     "name": "stdout",
     "output_type": "stream",
     "text": [
      "yay\n"
     ]
    }
   ],
   "source": [
    "if pet == 'cat':\n",
    "    print(\"yay\")\n",
    "# I predict the first condition will be true, \n",
    "# so it will print the message"
   ]
  },
  {
   "cell_type": "code",
   "execution_count": 28,
   "id": "fc549f1c",
   "metadata": {},
   "outputs": [],
   "source": [
    "if pet != 'cat':\n",
    "    print(\"sad\")\n",
    "# I predict nothing will print bc the statement\n",
    "# is false"
   ]
  },
  {
   "cell_type": "code",
   "execution_count": 29,
   "id": "f8f106de",
   "metadata": {},
   "outputs": [],
   "source": [
    "pets = ['cat', 'dog', 'turtle']"
   ]
  },
  {
   "cell_type": "code",
   "execution_count": 30,
   "id": "f4eaa48c",
   "metadata": {},
   "outputs": [
    {
     "data": {
      "text/plain": [
       "True"
      ]
     },
     "execution_count": 30,
     "metadata": {},
     "output_type": "execute_result"
    }
   ],
   "source": [
    "'cat'in pets\n",
    "# I predict this will be true"
   ]
  },
  {
   "cell_type": "code",
   "execution_count": 31,
   "id": "d282ec42",
   "metadata": {},
   "outputs": [
    {
     "data": {
      "text/plain": [
       "False"
      ]
     },
     "execution_count": 31,
     "metadata": {},
     "output_type": "execute_result"
    }
   ],
   "source": [
    "'lizard' in pets\n",
    "# I predict this will be false"
   ]
  },
  {
   "cell_type": "code",
   "execution_count": 33,
   "id": "947e2c82",
   "metadata": {},
   "outputs": [
    {
     "data": {
      "text/plain": [
       "False"
      ]
     },
     "execution_count": 33,
     "metadata": {},
     "output_type": "execute_result"
    }
   ],
   "source": [
    "pet = 'Cat'\n",
    "pet == 'cat'\n",
    "# I predict this will be false"
   ]
  },
  {
   "cell_type": "code",
   "execution_count": 34,
   "id": "cdda6b03",
   "metadata": {},
   "outputs": [
    {
     "data": {
      "text/plain": [
       "True"
      ]
     },
     "execution_count": 34,
     "metadata": {},
     "output_type": "execute_result"
    }
   ],
   "source": [
    "pet = 'Cat'\n",
    "pet.lower() == 'cat'\n",
    "# I predict this will be true"
   ]
  },
  {
   "cell_type": "code",
   "execution_count": 35,
   "id": "8fe735bd",
   "metadata": {},
   "outputs": [
    {
     "data": {
      "text/plain": [
       "True"
      ]
     },
     "execution_count": 35,
     "metadata": {},
     "output_type": "execute_result"
    }
   ],
   "source": [
    "time = 4\n",
    "time > 3\n",
    "# I predict this will be true"
   ]
  },
  {
   "cell_type": "code",
   "execution_count": 36,
   "id": "d3a65c00",
   "metadata": {},
   "outputs": [
    {
     "data": {
      "text/plain": [
       "False"
      ]
     },
     "execution_count": 36,
     "metadata": {},
     "output_type": "execute_result"
    }
   ],
   "source": [
    "time = 4\n",
    "time < 3\n",
    "# I predict this will be false"
   ]
  },
  {
   "cell_type": "code",
   "execution_count": 37,
   "id": "16b3c9e7",
   "metadata": {},
   "outputs": [
    {
     "data": {
      "text/plain": [
       "True"
      ]
     },
     "execution_count": 37,
     "metadata": {},
     "output_type": "execute_result"
    }
   ],
   "source": [
    "time <= 4 \n",
    "# I predict this will be true"
   ]
  },
  {
   "cell_type": "code",
   "execution_count": 39,
   "id": "97706e78",
   "metadata": {},
   "outputs": [
    {
     "data": {
      "text/plain": [
       "False"
      ]
     },
     "execution_count": 39,
     "metadata": {},
     "output_type": "execute_result"
    }
   ],
   "source": [
    "time >= 5\n",
    "# I predict this will be false"
   ]
  },
  {
   "cell_type": "markdown",
   "id": "8ad067db",
   "metadata": {},
   "source": [
    "# 5-2"
   ]
  },
  {
   "cell_type": "markdown",
   "id": "16994b7c",
   "metadata": {},
   "source": [
    "5-2. More Conditional Tests: You don’t have to limit the number of tests you create to ten. If you want to try more comparisons, write more tests and add them to conditional_tests.py. Have at least one True and one False result for each of the following:"
   ]
  },
  {
   "cell_type": "markdown",
   "id": "c6578a26",
   "metadata": {},
   "source": [
    "-Tests for equality and inequality with strings\n",
    "-Tests using the lower() method\n",
    "-Numerical tests involving equality and inequality, greater than and less than, greater than or equal to, and less than or equal to\n",
    "-Tests using the and keyword and the or keyword\n",
    "-Test whether an item is in a list\n",
    "-Test whether an item is not in a list"
   ]
  },
  {
   "cell_type": "code",
   "execution_count": 40,
   "id": "573c9479",
   "metadata": {},
   "outputs": [
    {
     "data": {
      "text/plain": [
       "True"
      ]
     },
     "execution_count": 40,
     "metadata": {},
     "output_type": "execute_result"
    }
   ],
   "source": [
    "# Tests for equality and inequality with strings\n",
    "pet = 'turtle'\n",
    "pet == 'turtle'"
   ]
  },
  {
   "cell_type": "code",
   "execution_count": 41,
   "id": "ac0ae6a7",
   "metadata": {},
   "outputs": [
    {
     "data": {
      "text/plain": [
       "False"
      ]
     },
     "execution_count": 41,
     "metadata": {},
     "output_type": "execute_result"
    }
   ],
   "source": [
    "pet = 'turtle'\n",
    "pet == 'Turtle'"
   ]
  },
  {
   "cell_type": "code",
   "execution_count": 42,
   "id": "8974f015",
   "metadata": {},
   "outputs": [
    {
     "data": {
      "text/plain": [
       "True"
      ]
     },
     "execution_count": 42,
     "metadata": {},
     "output_type": "execute_result"
    }
   ],
   "source": [
    "pet = 'turtle'\n",
    "pet != 'cat'"
   ]
  },
  {
   "cell_type": "code",
   "execution_count": 43,
   "id": "22db1c3d",
   "metadata": {},
   "outputs": [
    {
     "data": {
      "text/plain": [
       "False"
      ]
     },
     "execution_count": 43,
     "metadata": {},
     "output_type": "execute_result"
    }
   ],
   "source": [
    "pet = 'turtle'\n",
    "pet != 'turtle'"
   ]
  },
  {
   "cell_type": "code",
   "execution_count": 45,
   "id": "866222a5",
   "metadata": {},
   "outputs": [
    {
     "data": {
      "text/plain": [
       "True"
      ]
     },
     "execution_count": 45,
     "metadata": {},
     "output_type": "execute_result"
    }
   ],
   "source": [
    "#tests using the lower() method\n",
    "pet = 'Turtle'\n",
    "pet.lower() == 'turtle'"
   ]
  },
  {
   "cell_type": "code",
   "execution_count": 46,
   "id": "4362a7c4",
   "metadata": {},
   "outputs": [
    {
     "data": {
      "text/plain": [
       "False"
      ]
     },
     "execution_count": 46,
     "metadata": {},
     "output_type": "execute_result"
    }
   ],
   "source": [
    "pet = 'Turtle'\n",
    "pet.lower() == 'Turtle'"
   ]
  },
  {
   "cell_type": "code",
   "execution_count": 47,
   "id": "8cd27998",
   "metadata": {},
   "outputs": [
    {
     "data": {
      "text/plain": [
       "True"
      ]
     },
     "execution_count": 47,
     "metadata": {},
     "output_type": "execute_result"
    }
   ],
   "source": [
    "#Numerical tests involving equality and inequality, greater than and\n",
    "#less than, greater than or equal to, and less than or equal to\n",
    "time = 9\n",
    "time == 9"
   ]
  },
  {
   "cell_type": "code",
   "execution_count": 48,
   "id": "7210d203",
   "metadata": {},
   "outputs": [
    {
     "data": {
      "text/plain": [
       "False"
      ]
     },
     "execution_count": 48,
     "metadata": {},
     "output_type": "execute_result"
    }
   ],
   "source": [
    "time == 10"
   ]
  },
  {
   "cell_type": "code",
   "execution_count": 49,
   "id": "c6552ae4",
   "metadata": {},
   "outputs": [
    {
     "data": {
      "text/plain": [
       "False"
      ]
     },
     "execution_count": 49,
     "metadata": {},
     "output_type": "execute_result"
    }
   ],
   "source": [
    "time = 9 \n",
    "time != 9"
   ]
  },
  {
   "cell_type": "code",
   "execution_count": 50,
   "id": "078a2f00",
   "metadata": {},
   "outputs": [
    {
     "data": {
      "text/plain": [
       "True"
      ]
     },
     "execution_count": 50,
     "metadata": {},
     "output_type": "execute_result"
    }
   ],
   "source": [
    "time = 9\n",
    "time != 10"
   ]
  },
  {
   "cell_type": "code",
   "execution_count": 51,
   "id": "6f898273",
   "metadata": {},
   "outputs": [
    {
     "data": {
      "text/plain": [
       "False"
      ]
     },
     "execution_count": 51,
     "metadata": {},
     "output_type": "execute_result"
    }
   ],
   "source": [
    "9 > 10"
   ]
  },
  {
   "cell_type": "code",
   "execution_count": 52,
   "id": "7c7cb9f0",
   "metadata": {},
   "outputs": [
    {
     "data": {
      "text/plain": [
       "True"
      ]
     },
     "execution_count": 52,
     "metadata": {},
     "output_type": "execute_result"
    }
   ],
   "source": [
    "9 > 8"
   ]
  },
  {
   "cell_type": "code",
   "execution_count": 53,
   "id": "8b2e62a9",
   "metadata": {},
   "outputs": [
    {
     "data": {
      "text/plain": [
       "True"
      ]
     },
     "execution_count": 53,
     "metadata": {},
     "output_type": "execute_result"
    }
   ],
   "source": [
    "9 < 10"
   ]
  },
  {
   "cell_type": "code",
   "execution_count": 54,
   "id": "903121d5",
   "metadata": {},
   "outputs": [
    {
     "data": {
      "text/plain": [
       "False"
      ]
     },
     "execution_count": 54,
     "metadata": {},
     "output_type": "execute_result"
    }
   ],
   "source": [
    "9 < 8"
   ]
  },
  {
   "cell_type": "code",
   "execution_count": 55,
   "id": "d2a41e46",
   "metadata": {},
   "outputs": [
    {
     "data": {
      "text/plain": [
       "True"
      ]
     },
     "execution_count": 55,
     "metadata": {},
     "output_type": "execute_result"
    }
   ],
   "source": [
    "8 >= 8"
   ]
  },
  {
   "cell_type": "code",
   "execution_count": 56,
   "id": "27db404e",
   "metadata": {},
   "outputs": [
    {
     "data": {
      "text/plain": [
       "False"
      ]
     },
     "execution_count": 56,
     "metadata": {},
     "output_type": "execute_result"
    }
   ],
   "source": [
    "8 >= 9"
   ]
  },
  {
   "cell_type": "code",
   "execution_count": 57,
   "id": "46348c07",
   "metadata": {},
   "outputs": [
    {
     "data": {
      "text/plain": [
       "False"
      ]
     },
     "execution_count": 57,
     "metadata": {},
     "output_type": "execute_result"
    }
   ],
   "source": [
    "8 <= 6"
   ]
  },
  {
   "cell_type": "code",
   "execution_count": 58,
   "id": "4dd0ce81",
   "metadata": {},
   "outputs": [
    {
     "data": {
      "text/plain": [
       "True"
      ]
     },
     "execution_count": 58,
     "metadata": {},
     "output_type": "execute_result"
    }
   ],
   "source": [
    "8 <= 8"
   ]
  },
  {
   "cell_type": "code",
   "execution_count": 64,
   "id": "107808b6",
   "metadata": {},
   "outputs": [],
   "source": [
    "# Tests using the and keyword and the or keyword\n",
    "time_0 = 8\n",
    "time_1 = 7"
   ]
  },
  {
   "cell_type": "code",
   "execution_count": 65,
   "id": "6c5ed55f",
   "metadata": {},
   "outputs": [
    {
     "data": {
      "text/plain": [
       "True"
      ]
     },
     "execution_count": 65,
     "metadata": {},
     "output_type": "execute_result"
    }
   ],
   "source": [
    "time_0 >= 6 and time_1 >= 6"
   ]
  },
  {
   "cell_type": "code",
   "execution_count": 66,
   "id": "caac7983",
   "metadata": {},
   "outputs": [
    {
     "data": {
      "text/plain": [
       "False"
      ]
     },
     "execution_count": 66,
     "metadata": {},
     "output_type": "execute_result"
    }
   ],
   "source": [
    "time_0 >= 10 and time_1 >= 10"
   ]
  },
  {
   "cell_type": "code",
   "execution_count": 67,
   "id": "2429d176",
   "metadata": {},
   "outputs": [
    {
     "data": {
      "text/plain": [
       "True"
      ]
     },
     "execution_count": 67,
     "metadata": {},
     "output_type": "execute_result"
    }
   ],
   "source": [
    "time_0 >=6 or time_1 >=10"
   ]
  },
  {
   "cell_type": "code",
   "execution_count": 68,
   "id": "8cb95c4b",
   "metadata": {},
   "outputs": [
    {
     "data": {
      "text/plain": [
       "False"
      ]
     },
     "execution_count": 68,
     "metadata": {},
     "output_type": "execute_result"
    }
   ],
   "source": [
    "time_0 >= 10 or time_1 >= 10"
   ]
  },
  {
   "cell_type": "code",
   "execution_count": 73,
   "id": "00027f5e",
   "metadata": {},
   "outputs": [],
   "source": [
    "# Test whether an item is in a list\n",
    "# Test whether an item is not in a list\n",
    "pets = ['dog', 'cat', 'bird']"
   ]
  },
  {
   "cell_type": "code",
   "execution_count": 76,
   "id": "4fd53663",
   "metadata": {},
   "outputs": [
    {
     "data": {
      "text/plain": [
       "True"
      ]
     },
     "execution_count": 76,
     "metadata": {},
     "output_type": "execute_result"
    }
   ],
   "source": [
    "'dog' in pets"
   ]
  },
  {
   "cell_type": "code",
   "execution_count": 77,
   "id": "cf40d7a1",
   "metadata": {},
   "outputs": [
    {
     "data": {
      "text/plain": [
       "False"
      ]
     },
     "execution_count": 77,
     "metadata": {},
     "output_type": "execute_result"
    }
   ],
   "source": [
    "'turtle' in pets"
   ]
  },
  {
   "cell_type": "markdown",
   "id": "a6d71ffd",
   "metadata": {},
   "source": [
    "# 5-6"
   ]
  },
  {
   "cell_type": "markdown",
   "id": "7d75c311",
   "metadata": {},
   "source": [
    "5-6. Stages of Life: Write an if-elif-else chain that determines a person’s stage of life. Set a value for the variable age, and then:\n",
    "\n",
    "If the person is less than 2 years old, print a message that the person is a baby.\n",
    "If the person is at least 2 years old but less than 4, print a message that the person is a toddler.\n",
    "If the person is at least 4 years old but less than 13, print a message that the person is a kid.\n",
    "If the person is at least 13 years old but less than 20, print a message that the person is a teenager.\n",
    "If the person is at least 20 years old but less than 65, print a message that the person is an adult.\n",
    "If the person is age 65 or older, print a message that the person is an elder.\n"
   ]
  },
  {
   "cell_type": "code",
   "execution_count": 78,
   "id": "8abfe37f",
   "metadata": {},
   "outputs": [],
   "source": [
    "age = 18"
   ]
  },
  {
   "cell_type": "code",
   "execution_count": 87,
   "id": "bb419383",
   "metadata": {},
   "outputs": [
    {
     "name": "stdout",
     "output_type": "stream",
     "text": [
      "Teenager\n"
     ]
    }
   ],
   "source": [
    "if age < 2:\n",
    "    print(\"Baby\")\n",
    "elif age >= 2 and age < 4:\n",
    "    print(\"Toddler\")\n",
    "elif age >= 4 and age < 13:\n",
    "    print(\"Kid\")\n",
    "elif age >=13 and age < 20:\n",
    "    print(\"Teenager\")\n",
    "elif age >= 20 and age < 65:\n",
    "    print(\"Adult\")\n",
    "else:\n",
    "    print(\"elder\")"
   ]
  },
  {
   "cell_type": "markdown",
   "id": "992786a5",
   "metadata": {},
   "source": [
    "# 5-7"
   ]
  },
  {
   "cell_type": "markdown",
   "id": "aed55707",
   "metadata": {},
   "source": [
    "5-7. Favorite Fruit: Make a list of your favorite fruits, and then write a series of independent if statements that check for certain fruits in your list.\n",
    "\n",
    "Make a list of your three favorite fruits and call it favorite_fruits.\n",
    "Write five if statements. Each should check whether a certain kind of fruit is in your list. If the fruit is in your list, the if block should print a statement, such as You really like bananas!"
   ]
  },
  {
   "cell_type": "code",
   "execution_count": 94,
   "id": "78417ee2",
   "metadata": {},
   "outputs": [
    {
     "data": {
      "text/plain": [
       "True"
      ]
     },
     "execution_count": 94,
     "metadata": {},
     "output_type": "execute_result"
    }
   ],
   "source": [
    "favorite_fruits = ['grapes', 'kiwis', 'strawberries']\n",
    "'grapes' in favorite_fruits\n",
    "'kiwis' in favorite_fruits\n",
    "'strawberries' in favorite_fruits"
   ]
  },
  {
   "cell_type": "code",
   "execution_count": 95,
   "id": "4ce86753",
   "metadata": {},
   "outputs": [
    {
     "data": {
      "text/plain": [
       "False"
      ]
     },
     "execution_count": 95,
     "metadata": {},
     "output_type": "execute_result"
    }
   ],
   "source": [
    "'apples' in favorite_fruits"
   ]
  },
  {
   "cell_type": "code",
   "execution_count": 89,
   "id": "43b8085f",
   "metadata": {},
   "outputs": [
    {
     "name": "stdout",
     "output_type": "stream",
     "text": [
      "Grapes are my favorite fruit!\n"
     ]
    }
   ],
   "source": [
    "if 'grapes' in favorite_fruits:\n",
    "    print(\"Grapes are my favorite fruit!\")"
   ]
  },
  {
   "cell_type": "code",
   "execution_count": 90,
   "id": "d8c86c27",
   "metadata": {},
   "outputs": [
    {
     "name": "stdout",
     "output_type": "stream",
     "text": [
      "Strawberries are my favorite fruit!\n"
     ]
    }
   ],
   "source": [
    "if 'strawberries' in favorite_fruits:\n",
    "    print(\"Strawberries are my favorite fruit!\")"
   ]
  },
  {
   "cell_type": "code",
   "execution_count": 91,
   "id": "fec9c9f8",
   "metadata": {},
   "outputs": [],
   "source": [
    "if 'apples' in favorite_fruits:\n",
    "    print(\"Apples are my favorite fruit!\")"
   ]
  },
  {
   "cell_type": "code",
   "execution_count": 96,
   "id": "ce36a992",
   "metadata": {},
   "outputs": [
    {
     "name": "stdout",
     "output_type": "stream",
     "text": [
      "Kiwis are my favorite fruit!\n"
     ]
    }
   ],
   "source": [
    "if 'kiwis' in favorite_fruits:\n",
    "    print(\"Kiwis are my favorite fruit!\")"
   ]
  },
  {
   "cell_type": "code",
   "execution_count": 97,
   "id": "d21acb43",
   "metadata": {},
   "outputs": [],
   "source": [
    "if 'oranges' in favorite_fruits:\n",
    "    print(\"Oranges are my favorite fruit!\")"
   ]
  },
  {
   "cell_type": "markdown",
   "id": "11940e64",
   "metadata": {},
   "source": [
    "# 5-8"
   ]
  },
  {
   "cell_type": "markdown",
   "id": "77457172",
   "metadata": {},
   "source": [
    "5-8. Hello Admin: Make a list of five or more usernames, including the name 'admin'. Imagine you are writing code that will print a greeting to each user after they log in to a website. Loop through the list, and print a greeting to each user:\n",
    "\n",
    "If the username is 'admin', print a special greeting, such as Hello admin, would you like to see a status report?\n",
    "Otherwise, print a generic greeting, such as Hello Jaden, thank you for logging in again."
   ]
  },
  {
   "cell_type": "code",
   "execution_count": 121,
   "id": "35bdeea0",
   "metadata": {},
   "outputs": [],
   "source": [
    "usernames = ['admin', 'Henry', 'user2', 'user3', 'user4']"
   ]
  },
  {
   "cell_type": "code",
   "execution_count": 116,
   "id": "9610d9ce",
   "metadata": {},
   "outputs": [
    {
     "name": "stdout",
     "output_type": "stream",
     "text": [
      "Hello Henry\n",
      "Hello user2\n",
      "Hello user3\n",
      "Hello user4\n",
      "Hello admin, would you like to see the status report?\n"
     ]
    }
   ],
   "source": [
    "for username in usernames:\n",
    "    if username == 'Henry':\n",
    "        print(\"Hello Henry\")\n",
    "for username in usernames:\n",
    "    if username == 'user2':\n",
    "        print(\"Hello user2\")\n",
    "for username in usernames:\n",
    "    if username == 'user3':\n",
    "        print(\"Hello user3\")\n",
    "for username in usernames:\n",
    "    if username == 'user4':\n",
    "        print(\"Hello user4\")\n",
    "for username in usernames:\n",
    "    if username == 'admin':\n",
    "        print(\"Hello admin, would you like to see the status report?\")"
   ]
  },
  {
   "cell_type": "markdown",
   "id": "fdd6d87a",
   "metadata": {},
   "source": [
    "# 5-9"
   ]
  },
  {
   "cell_type": "markdown",
   "id": "89bf2890",
   "metadata": {},
   "source": [
    "5-9. No Users: Add an if test to hello_admin.py to make sure the list of users is not empty.\n",
    "\n",
    "If the list is empty, print the message We need to find some users!\n",
    "Remove all of the usernames from your list, and make sure the correct message is printed."
   ]
  },
  {
   "cell_type": "code",
   "execution_count": 122,
   "id": "d598b211",
   "metadata": {},
   "outputs": [
    {
     "name": "stdout",
     "output_type": "stream",
     "text": [
      "Hello admin!\n",
      "Hello Henry!\n",
      "Hello user2!\n",
      "Hello user3!\n",
      "Hello user4!\n",
      "\n",
      "Thank you for logging in!\n"
     ]
    }
   ],
   "source": [
    "if usernames:\n",
    "    for username in usernames:\n",
    "        print(f\"Hello {username}!\")\n",
    "    print(\"\\nThank you for logging in!\")\n",
    "else:\n",
    "    print(\"We need to find some users!\")"
   ]
  },
  {
   "cell_type": "code",
   "execution_count": 118,
   "id": "438ae6c7",
   "metadata": {},
   "outputs": [],
   "source": [
    "usernames = []"
   ]
  },
  {
   "cell_type": "code",
   "execution_count": 119,
   "id": "189fc1aa",
   "metadata": {},
   "outputs": [
    {
     "name": "stdout",
     "output_type": "stream",
     "text": [
      "We need to find some users!\n"
     ]
    }
   ],
   "source": [
    "if usernames:\n",
    "    for username in usernames:\n",
    "        print(f\"Hello{username}!\")\n",
    "    print(\"\\nThank you for logging in!\")\n",
    "else:\n",
    "    print(\"We need to find some users!\")"
   ]
  },
  {
   "cell_type": "markdown",
   "id": "87e3c192",
   "metadata": {},
   "source": [
    "# 5-10"
   ]
  },
  {
   "cell_type": "markdown",
   "id": "e6a22f6d",
   "metadata": {},
   "source": [
    "5-10. Checking Usernames: Do the following to create a program that simulates how websites ensure that everyone has a unique username.\n",
    "\n",
    "Make a list of five or more usernames called current_users.\n",
    "Make another list of five usernames called new_users. Make sure one or two of the new usernames are also in the current_users list.\n",
    "Loop through the new_users list to see if each new username has already been used. If it has, print a message that the person will need to enter a new username. If a username has not been used, print a message saying that the username is available.\n",
    "Make sure your comparison is case insensitive. If 'John' has been used, 'JOHN' should not be accepted. (To do this, you’ll need to make a copy of current_users containing the lowercase versions of all existing users.)"
   ]
  },
  {
   "cell_type": "code",
   "execution_count": 127,
   "id": "4a58d9d2",
   "metadata": {},
   "outputs": [],
   "source": [
    "current_users = ['user1', 'user2', 'user3', 'user4', 'user5', 'USER1', 'USER2', 'USER3', 'USER4', 'USER5', 'user1', 'user2', 'newuser3', 'newuser4', 'newuser5']"
   ]
  },
  {
   "cell_type": "code",
   "execution_count": 126,
   "id": "59e00353",
   "metadata": {},
   "outputs": [],
   "source": [
    "#I wasn't sure how to do the last part of the prompt so I put\n",
    "#several upper and lowercase variations into the original list of users"
   ]
  },
  {
   "cell_type": "code",
   "execution_count": null,
   "id": "07d80339",
   "metadata": {},
   "outputs": [],
   "source": []
  },
  {
   "cell_type": "code",
   "execution_count": 124,
   "id": "57906005",
   "metadata": {},
   "outputs": [],
   "source": [
    "new_users = ['user1', 'user2', 'newuser3', 'newuser4', 'newuser5']"
   ]
  },
  {
   "cell_type": "code",
   "execution_count": 125,
   "id": "b4bb09c7",
   "metadata": {},
   "outputs": [
    {
     "name": "stdout",
     "output_type": "stream",
     "text": [
      "user1, you need to enter a new username!\n",
      "user2, you need to enter a new username!\n",
      "newuser3, your username is available!\n",
      "newuser4, your username is available!\n",
      "newuser5, your username is available!\n"
     ]
    }
   ],
   "source": [
    "for new_user in new_users:\n",
    "    if new_user in current_users:\n",
    "        print(f\"{new_user}, you need to enter a new username!\")\n",
    "    else:\n",
    "        print(f\"{new_user}, your username is available!\")"
   ]
  },
  {
   "cell_type": "code",
   "execution_count": null,
   "id": "e304e22d",
   "metadata": {},
   "outputs": [],
   "source": []
  }
 ],
 "metadata": {
  "kernelspec": {
   "display_name": "Python 3 (ipykernel)",
   "language": "python",
   "name": "python3"
  },
  "language_info": {
   "codemirror_mode": {
    "name": "ipython",
    "version": 3
   },
   "file_extension": ".py",
   "mimetype": "text/x-python",
   "name": "python",
   "nbconvert_exporter": "python",
   "pygments_lexer": "ipython3",
   "version": "3.11.4"
  }
 },
 "nbformat": 4,
 "nbformat_minor": 5
}
