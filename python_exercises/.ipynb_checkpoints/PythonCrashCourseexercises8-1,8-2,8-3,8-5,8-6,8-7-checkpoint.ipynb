{
 "cells": [
  {
   "cell_type": "markdown",
   "id": "b0ce6f08",
   "metadata": {},
   "source": [
    "# 8-1"
   ]
  },
  {
   "cell_type": "markdown",
   "id": "196d23b8",
   "metadata": {},
   "source": [
    "8-1. Message: Write a function called display_message() that prints one sentence telling everyone what you are learning about in this chapter. Call the function, and make sure the message displays correctly.\n",
    "\n"
   ]
  },
  {
   "cell_type": "code",
   "execution_count": 1,
   "id": "21796417",
   "metadata": {},
   "outputs": [],
   "source": [
    "def display_message():\n",
    "    \"\"\"Display a message.\"\"\"\n",
    "    print(\"This chapter covers functions which are blocks of code for a particular task that you can call on to perform that task.\")"
   ]
  },
  {
   "cell_type": "code",
   "execution_count": 2,
   "id": "9ad8fd80",
   "metadata": {},
   "outputs": [
    {
     "name": "stdout",
     "output_type": "stream",
     "text": [
      "This chapter covers functions which are blocks of code for a particular task that you can call on to perform that task.\n"
     ]
    }
   ],
   "source": [
    "display_message()"
   ]
  },
  {
   "cell_type": "markdown",
   "id": "a1c79970",
   "metadata": {},
   "source": [
    "8-2. Favorite Book: Write a function called favorite_book() that accepts one parameter, title. The function should print a message, such as One of my favorite books is Alice in Wonderland. Call the function, making sure to include a book title as an argument in the function call."
   ]
  },
  {
   "cell_type": "code",
   "execution_count": 10,
   "id": "a84240e4",
   "metadata": {},
   "outputs": [],
   "source": [
    "def favorite_book(book):\n",
    "    \"\"\"Display a message with my favorite book\"\"\"\n",
    "    print(f\"My favorite book is {book.title()}!\")"
   ]
  },
  {
   "cell_type": "code",
   "execution_count": 12,
   "id": "5bf8bc4c",
   "metadata": {},
   "outputs": [
    {
     "name": "stdout",
     "output_type": "stream",
     "text": [
      "My favorite book is Everything I Never Told You!\n"
     ]
    }
   ],
   "source": [
    "favorite_book('Everything I Never Told You')"
   ]
  },
  {
   "cell_type": "markdown",
   "id": "43b3b298",
   "metadata": {},
   "source": [
    "8-3. T-Shirt: Write a function called make_shirt() that accepts a size and the text of a message that should be printed on the shirt. The function should print a sentence summarizing the size of the shirt and the message printed on it.\n",
    "\n",
    "Call the function once using positional arguments to make a shirt. Call the function a second time using keyword arguments.\n",
    "\n"
   ]
  },
  {
   "cell_type": "code",
   "execution_count": 4,
   "id": "5776088b",
   "metadata": {},
   "outputs": [
    {
     "ename": "SyntaxError",
     "evalue": "invalid syntax. Perhaps you forgot a comma? (1705668783.py, line 4)",
     "output_type": "error",
     "traceback": [
      "\u001b[0;36m  Cell \u001b[0;32mIn[4], line 4\u001b[0;36m\u001b[0m\n\u001b[0;31m    print(f\"It has the message \"{text}\" printed on it.\")\u001b[0m\n\u001b[0m          ^\u001b[0m\n\u001b[0;31mSyntaxError\u001b[0m\u001b[0;31m:\u001b[0m invalid syntax. Perhaps you forgot a comma?\n"
     ]
    }
   ],
   "source": [
    "def make_shirt(size, text):\n",
    "    \"\"\"Display information about shirt\"\"\"\n",
    "    print(f\"\\nThe shirt is a size {size}.\")\n",
    "    print(f\"It has the message \"{text}\" printed on it.\") \n",
    "    \n",
    "make_shirt('small', 'Hollister')\n",
    "## Don't understand why this doesn't work"
   ]
  },
  {
   "cell_type": "code",
   "execution_count": 3,
   "id": "11fe83d3",
   "metadata": {},
   "outputs": [
    {
     "name": "stdout",
     "output_type": "stream",
     "text": [
      "\n",
      "The shirt is a size small.\n",
      "It has the message Hollister printed on it.\n"
     ]
    }
   ],
   "source": [
    "def make_shirt(size, text):\n",
    "    \"\"\"Display information about shirt\"\"\"\n",
    "    print(f\"\\nThe shirt is a size {size}.\")\n",
    "    print(f\"It has the message {text} printed on it.\") \n",
    "\n",
    "make_shirt(size='small', text='Hollister')\n",
    "## Don't understand why this doesn't work either"
   ]
  },
  {
   "cell_type": "markdown",
   "id": "87fb4b3f",
   "metadata": {},
   "source": [
    "8-5. Cities: Write a function called describe_city() that accepts the name of a city and its country. The function should print a simple sentence, such as Reykjavik is in Iceland. Give the parameter for the country a default value. Call your function for three different cities, at least one of which is not in the default country."
   ]
  },
  {
   "cell_type": "code",
   "execution_count": 27,
   "id": "ddb86d79",
   "metadata": {},
   "outputs": [],
   "source": [
    "def describe_city(name, country = 'Italy'):\n",
    "    \"\"\"Display information about city\"\"\"\n",
    "    print(f\"\\nThe city is called {name} and it is located in {country}\")"
   ]
  },
  {
   "cell_type": "code",
   "execution_count": 26,
   "id": "afee01b2",
   "metadata": {},
   "outputs": [
    {
     "name": "stdout",
     "output_type": "stream",
     "text": [
      "\n",
      "The city is called Reykjavik and it is located in Iceland\n"
     ]
    }
   ],
   "source": [
    "describe_city('Reykjavik', 'Iceland')\n",
    "## I did this one before I made a default value"
   ]
  },
  {
   "cell_type": "code",
   "execution_count": 28,
   "id": "51435213",
   "metadata": {},
   "outputs": [
    {
     "name": "stdout",
     "output_type": "stream",
     "text": [
      "\n",
      "The city is called Rome and it is located in Italy\n"
     ]
    }
   ],
   "source": [
    "describe_city('Rome')"
   ]
  },
  {
   "cell_type": "code",
   "execution_count": 29,
   "id": "47c3430a",
   "metadata": {},
   "outputs": [
    {
     "name": "stdout",
     "output_type": "stream",
     "text": [
      "\n",
      "The city is called Florence and it is located in Italy\n"
     ]
    }
   ],
   "source": [
    "describe_city('Florence')"
   ]
  },
  {
   "cell_type": "code",
   "execution_count": 30,
   "id": "0b29cf52",
   "metadata": {},
   "outputs": [
    {
     "name": "stdout",
     "output_type": "stream",
     "text": [
      "\n",
      "The city is called London and it is located in Italy\n"
     ]
    }
   ],
   "source": [
    "describe_city('London')"
   ]
  },
  {
   "cell_type": "markdown",
   "id": "e7a06f22",
   "metadata": {},
   "source": [
    "8-6. City Names: Write a function called city_country() that takes in the name of a city and its country. The function should return a string formatted like this:\n",
    "\n",
    "\"Santiago, Chile\"\n",
    "Call your function with at least three city-country pairs, and print the values that are returned."
   ]
  },
  {
   "cell_type": "code",
   "execution_count": 35,
   "id": "58edeec3",
   "metadata": {},
   "outputs": [],
   "source": [
    "def city_country(city, country):\n",
    "    \"\"\"Return a city and country, neatly formatted\"\"\"\n",
    "    full_location = f\"{city}, {country}\"\n",
    "    return full_location.title()"
   ]
  },
  {
   "cell_type": "code",
   "execution_count": 37,
   "id": "c888184d",
   "metadata": {},
   "outputs": [
    {
     "name": "stdout",
     "output_type": "stream",
     "text": [
      "Florence, Italy\n"
     ]
    }
   ],
   "source": [
    "place_1 = city_country('Florence', 'Italy')\n",
    "print(place_1)"
   ]
  },
  {
   "cell_type": "code",
   "execution_count": 38,
   "id": "61602c9c",
   "metadata": {},
   "outputs": [
    {
     "name": "stdout",
     "output_type": "stream",
     "text": [
      "Rome, Italy\n"
     ]
    }
   ],
   "source": [
    "place_2 = city_country('Rome', 'Italy')\n",
    "print(place_2)"
   ]
  },
  {
   "cell_type": "code",
   "execution_count": 40,
   "id": "422755ac",
   "metadata": {},
   "outputs": [
    {
     "name": "stdout",
     "output_type": "stream",
     "text": [
      "London, England\n"
     ]
    }
   ],
   "source": [
    "place_3 = city_country('London', 'England')\n",
    "print(place_3)"
   ]
  },
  {
   "cell_type": "markdown",
   "id": "a47da431",
   "metadata": {},
   "source": [
    "8-7. Album: Write a function called make_album() that builds a dictionary describing a music album. The function should take in an artist name and an album title, and it should return a dictionary containing these two pieces of information. Use the function to make three dictionaries representing different albums. Print each return value to show that the dictionaries are storing the album information correctly.\n",
    "\n",
    "Use None to add an optional parameter to make_album() that allows you to store the number of songs on an album. If the calling line includes a value for the number of songs, add that value to the album’s dictionary. Make at least one new function call that includes the number of songs on an album."
   ]
  },
  {
   "cell_type": "code",
   "execution_count": 41,
   "id": "58477fb9",
   "metadata": {},
   "outputs": [],
   "source": [
    "def make_album(artist_name, album_title):\n",
    "    \"\"\"Return a dictionary of information about a music album\"\"\"\n",
    "    album = {'name': artist_name, 'album': album_title}\n",
    "    return album"
   ]
  },
  {
   "cell_type": "code",
   "execution_count": 43,
   "id": "4c0494b6",
   "metadata": {},
   "outputs": [
    {
     "name": "stdout",
     "output_type": "stream",
     "text": [
      "{'name': 'folklore', 'album': 'Taylor Swift'}\n"
     ]
    }
   ],
   "source": [
    "music_album = make_album('folklore', 'Taylor Swift')\n",
    "print(music_album)"
   ]
  },
  {
   "cell_type": "code",
   "execution_count": 44,
   "id": "2f9dd773",
   "metadata": {},
   "outputs": [
    {
     "name": "stdout",
     "output_type": "stream",
     "text": [
      "{'name': 'Jubilee', 'album': 'Japanese Breakfast'}\n"
     ]
    }
   ],
   "source": [
    "music_album = make_album('Jubilee', 'Japanese Breakfast')\n",
    "print(music_album)"
   ]
  },
  {
   "cell_type": "code",
   "execution_count": 45,
   "id": "40d58fb0",
   "metadata": {},
   "outputs": [
    {
     "name": "stdout",
     "output_type": "stream",
     "text": [
      "{'name': 'Wasteland, Baby!', 'album': 'Hozier'}\n"
     ]
    }
   ],
   "source": [
    "music_album = make_album('Wasteland, Baby!', 'Hozier')\n",
    "print(music_album)"
   ]
  },
  {
   "cell_type": "code",
   "execution_count": 6,
   "id": "71fbf217",
   "metadata": {},
   "outputs": [],
   "source": [
    "def make_album(artist_name, album_title, number_of_songs=None):\n",
    "    \"\"\"Return a dictionary of information about a music album\"\"\"\n",
    "    album = {'name': artist_name, 'album': album_title}\n",
    "    if number_of_songs:\n",
    "        album['number_of_songs'] = number_of_songs\n",
    "    return album"
   ]
  },
  {
   "cell_type": "code",
   "execution_count": 7,
   "id": "34649e45",
   "metadata": {},
   "outputs": [
    {
     "name": "stdout",
     "output_type": "stream",
     "text": [
      "{'name': 'Taylor Swift', 'album': 'folklore', 'number_of_songs': 17}\n"
     ]
    }
   ],
   "source": [
    "music_album = make_album('Taylor Swift', 'folklore', number_of_songs=17)\n",
    "print(music_album)"
   ]
  },
  {
   "cell_type": "code",
   "execution_count": 20,
   "id": "ced4ce56",
   "metadata": {},
   "outputs": [],
   "source": [
    "def make_album(artist_name, album_title, number_of_songs=None):\n",
    "    \"\"\"Return a dictionary of information about a music album\"\"\"\n",
    "    album = {'name': artist_name, 'album': album_title}\n",
    "    if number_of_songs:\n",
    "        album['number_of_songs'] = number_of_songs\n",
    "    print(f\"\\nName: {artist_name}\")\n",
    "    print(f\"Album: {album_title}\")\n",
    "    print(f\"Number of Songs: {number_of_songs}\")"
   ]
  },
  {
   "cell_type": "code",
   "execution_count": 21,
   "id": "f8ccdd29",
   "metadata": {},
   "outputs": [
    {
     "name": "stdout",
     "output_type": "stream",
     "text": [
      "\n",
      "Name: Taylor Swift\n",
      "Album: folklore\n",
      "Number of Songs: 17\n",
      "None\n"
     ]
    }
   ],
   "source": [
    "music_album = make_album('Taylor Swift', 'folklore', number_of_songs=17)\n",
    "print(music_album)"
   ]
  },
  {
   "cell_type": "code",
   "execution_count": 26,
   "id": "c4f2aafb",
   "metadata": {},
   "outputs": [
    {
     "ename": "TypeError",
     "evalue": "'NoneType' object is not callable",
     "output_type": "error",
     "traceback": [
      "\u001b[0;31m---------------------------------------------------------------------------\u001b[0m",
      "\u001b[0;31mTypeError\u001b[0m                                 Traceback (most recent call last)",
      "Cell \u001b[0;32mIn[26], line 1\u001b[0m\n\u001b[0;32m----> 1\u001b[0m music_album(\u001b[38;5;124m'\u001b[39m\u001b[38;5;124mTaylor Swift\u001b[39m\u001b[38;5;124m'\u001b[39m, \u001b[38;5;124m'\u001b[39m\u001b[38;5;124mfolklore\u001b[39m\u001b[38;5;124m'\u001b[39m, number_of_songs\u001b[38;5;241m=\u001b[39m\u001b[38;5;241m17\u001b[39m)\n",
      "\u001b[0;31mTypeError\u001b[0m: 'NoneType' object is not callable"
     ]
    }
   ],
   "source": [
    "music_album('Taylor Swift', 'folklore', number_of_songs=17)"
   ]
  },
  {
   "cell_type": "code",
   "execution_count": null,
   "id": "d1646227",
   "metadata": {},
   "outputs": [],
   "source": []
  }
 ],
 "metadata": {
  "kernelspec": {
   "display_name": "Python 3 (ipykernel)",
   "language": "python",
   "name": "python3"
  },
  "language_info": {
   "codemirror_mode": {
    "name": "ipython",
    "version": 3
   },
   "file_extension": ".py",
   "mimetype": "text/x-python",
   "name": "python",
   "nbconvert_exporter": "python",
   "pygments_lexer": "ipython3",
   "version": "3.11.4"
  }
 },
 "nbformat": 4,
 "nbformat_minor": 5
}
