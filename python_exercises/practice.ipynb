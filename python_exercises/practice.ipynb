{
 "cells": [
  {
   "cell_type": "code",
   "execution_count": 1,
   "id": "b2ff07fb",
   "metadata": {},
   "outputs": [],
   "source": [
    "string_x = \"Can you find the x in this string.\""
   ]
  },
  {
   "cell_type": "code",
   "execution_count": 2,
   "id": "05d66bad",
   "metadata": {},
   "outputs": [
    {
     "name": "stdout",
     "output_type": "stream",
     "text": [
      "Can you find the x in this string.\n"
     ]
    }
   ],
   "source": [
    "print(string_x)"
   ]
  },
  {
   "cell_type": "code",
   "execution_count": 3,
   "id": "fa1f54df",
   "metadata": {},
   "outputs": [
    {
     "name": "stdout",
     "output_type": "stream",
     "text": [
      "17\n"
     ]
    }
   ],
   "source": [
    "print(string_x.find(\"x\"))"
   ]
  },
  {
   "cell_type": "markdown",
   "id": "42870348",
   "metadata": {},
   "source": [
    "Integer"
   ]
  },
  {
   "cell_type": "code",
   "execution_count": 4,
   "id": "92adcb6c",
   "metadata": {},
   "outputs": [
    {
     "data": {
      "text/plain": [
       "4434"
      ]
     },
     "execution_count": 4,
     "metadata": {},
     "output_type": "execute_result"
    }
   ],
   "source": [
    "678 + 3756"
   ]
  },
  {
   "cell_type": "code",
   "execution_count": 5,
   "id": "d779493a",
   "metadata": {},
   "outputs": [
    {
     "data": {
      "text/plain": [
       "12"
      ]
     },
     "execution_count": 5,
     "metadata": {},
     "output_type": "execute_result"
    }
   ],
   "source": [
    "19 - 7"
   ]
  },
  {
   "cell_type": "code",
   "execution_count": 6,
   "id": "33b340a7",
   "metadata": {},
   "outputs": [
    {
     "data": {
      "text/plain": [
       "162"
      ]
     },
     "execution_count": 6,
     "metadata": {},
     "output_type": "execute_result"
    }
   ],
   "source": [
    "54 * 3"
   ]
  },
  {
   "cell_type": "code",
   "execution_count": 7,
   "id": "4b907a93",
   "metadata": {},
   "outputs": [
    {
     "data": {
      "text/plain": [
       "3.0"
      ]
     },
     "execution_count": 7,
     "metadata": {},
     "output_type": "execute_result"
    }
   ],
   "source": [
    "30 / 10"
   ]
  },
  {
   "cell_type": "code",
   "execution_count": 8,
   "id": "3019a0f7",
   "metadata": {},
   "outputs": [
    {
     "data": {
      "text/plain": [
       "27"
      ]
     },
     "execution_count": 8,
     "metadata": {},
     "output_type": "execute_result"
    }
   ],
   "source": [
    "3 ** 3"
   ]
  },
  {
   "cell_type": "code",
   "execution_count": 9,
   "id": "f3bce5c9",
   "metadata": {},
   "outputs": [
    {
     "data": {
      "text/plain": [
       "0.5"
      ]
     },
     "execution_count": 9,
     "metadata": {},
     "output_type": "execute_result"
    }
   ],
   "source": [
    "0.2 + 0.3"
   ]
  },
  {
   "cell_type": "code",
   "execution_count": 10,
   "id": "9530d4fc",
   "metadata": {},
   "outputs": [],
   "source": [
    "large_number = 1_000_000"
   ]
  },
  {
   "cell_type": "code",
   "execution_count": 11,
   "id": "f6aeba4e",
   "metadata": {},
   "outputs": [
    {
     "data": {
      "text/plain": [
       "1000002"
      ]
     },
     "execution_count": 11,
     "metadata": {},
     "output_type": "execute_result"
    }
   ],
   "source": [
    "large_number + 2"
   ]
  },
  {
   "cell_type": "code",
   "execution_count": 12,
   "id": "2efbe65c",
   "metadata": {},
   "outputs": [],
   "source": [
    "x, y, z = 1, 2, 3"
   ]
  },
  {
   "cell_type": "code",
   "execution_count": 13,
   "id": "972bd322",
   "metadata": {},
   "outputs": [
    {
     "name": "stdout",
     "output_type": "stream",
     "text": [
      "3\n"
     ]
    }
   ],
   "source": [
    "print(z)"
   ]
  },
  {
   "cell_type": "code",
   "execution_count": 14,
   "id": "47000189",
   "metadata": {},
   "outputs": [
    {
     "data": {
      "text/plain": [
       "3"
      ]
     },
     "execution_count": 14,
     "metadata": {},
     "output_type": "execute_result"
    }
   ],
   "source": [
    "x + y"
   ]
  },
  {
   "cell_type": "code",
   "execution_count": 15,
   "id": "bff49242",
   "metadata": {},
   "outputs": [
    {
     "data": {
      "text/plain": [
       "'146'"
      ]
     },
     "execution_count": 15,
     "metadata": {},
     "output_type": "execute_result"
    }
   ],
   "source": [
    "'14' + '6'"
   ]
  },
  {
   "cell_type": "code",
   "execution_count": 16,
   "id": "2de83f8c",
   "metadata": {},
   "outputs": [
    {
     "name": "stdout",
     "output_type": "stream",
     "text": [
      "<class 'str'>\n"
     ]
    }
   ],
   "source": [
    "print(type('14'))"
   ]
  },
  {
   "cell_type": "code",
   "execution_count": 17,
   "id": "e852a8cf",
   "metadata": {},
   "outputs": [
    {
     "name": "stdout",
     "output_type": "stream",
     "text": [
      "<class 'int'>\n"
     ]
    }
   ],
   "source": [
    "print(type(x))"
   ]
  },
  {
   "cell_type": "markdown",
   "id": "a2ec44da",
   "metadata": {},
   "source": [
    "List"
   ]
  },
  {
   "cell_type": "code",
   "execution_count": 18,
   "id": "db537873",
   "metadata": {},
   "outputs": [],
   "source": [
    "subjects = ['classics', 'history', 'literature']"
   ]
  },
  {
   "cell_type": "code",
   "execution_count": 19,
   "id": "da54cca9",
   "metadata": {},
   "outputs": [
    {
     "name": "stdout",
     "output_type": "stream",
     "text": [
      "['classics', 'history', 'literature']\n"
     ]
    }
   ],
   "source": [
    "print(subjects)"
   ]
  },
  {
   "cell_type": "code",
   "execution_count": 20,
   "id": "5d9f6960",
   "metadata": {},
   "outputs": [
    {
     "name": "stdout",
     "output_type": "stream",
     "text": [
      "classics\n"
     ]
    }
   ],
   "source": [
    "print(subjects[0])"
   ]
  },
  {
   "cell_type": "code",
   "execution_count": 21,
   "id": "d56d4a71",
   "metadata": {},
   "outputs": [
    {
     "ename": "NameError",
     "evalue": "name 'subject' is not defined",
     "output_type": "error",
     "traceback": [
      "\u001b[0;31m---------------------------------------------------------------------------\u001b[0m",
      "\u001b[0;31mNameError\u001b[0m                                 Traceback (most recent call last)",
      "Cell \u001b[0;32mIn[21], line 1\u001b[0m\n\u001b[0;32m----> 1\u001b[0m subject(\u001b[38;5;241m0\u001b[39m)\n",
      "\u001b[0;31mNameError\u001b[0m: name 'subject' is not defined"
     ]
    }
   ],
   "source": [
    "subject(0)"
   ]
  },
  {
   "cell_type": "code",
   "execution_count": 22,
   "id": "ce56cdd2",
   "metadata": {},
   "outputs": [
    {
     "ename": "TypeError",
     "evalue": "'list' object is not callable",
     "output_type": "error",
     "traceback": [
      "\u001b[0;31m---------------------------------------------------------------------------\u001b[0m",
      "\u001b[0;31mTypeError\u001b[0m                                 Traceback (most recent call last)",
      "Cell \u001b[0;32mIn[22], line 1\u001b[0m\n\u001b[0;32m----> 1\u001b[0m subjects(\u001b[38;5;241m0\u001b[39m)\n",
      "\u001b[0;31mTypeError\u001b[0m: 'list' object is not callable"
     ]
    }
   ],
   "source": [
    "subjects(0)"
   ]
  },
  {
   "cell_type": "code",
   "execution_count": 23,
   "id": "6547d98c",
   "metadata": {},
   "outputs": [
    {
     "data": {
      "text/plain": [
       "'classics'"
      ]
     },
     "execution_count": 23,
     "metadata": {},
     "output_type": "execute_result"
    }
   ],
   "source": [
    "subjects[0]"
   ]
  },
  {
   "cell_type": "code",
   "execution_count": null,
   "id": "6733699e",
   "metadata": {},
   "outputs": [],
   "source": []
  }
 ],
 "metadata": {
  "kernelspec": {
   "display_name": "Python 3 (ipykernel)",
   "language": "python",
   "name": "python3"
  },
  "language_info": {
   "codemirror_mode": {
    "name": "ipython",
    "version": 3
   },
   "file_extension": ".py",
   "mimetype": "text/x-python",
   "name": "python",
   "nbconvert_exporter": "python",
   "pygments_lexer": "ipython3",
   "version": "3.11.4"
  }
 },
 "nbformat": 4,
 "nbformat_minor": 5
}
