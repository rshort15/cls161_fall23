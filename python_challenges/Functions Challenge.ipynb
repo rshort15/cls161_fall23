{
 "cells": [
  {
   "cell_type": "markdown",
   "metadata": {},
   "source": [
    "# Functions Challenge\n",
    "## Directions\n",
    "\n",
    "Building off of the dictionaries challenge, create a function that takes a Pleiades url as input and returns a dictionary with two pieces of information: \"location_id\" and \"coordinates.\" For example, given the url `https://pleiades.stoa.org/places/423025/json` return the dictionary:\n",
    "`{'location_id': '423025', 'coordinates': [12.486137, 41.891775]}`\n",
    "\n",
    "Then, use a for loop to apply your function to the list of urls below building a new list of the returned dictionaries called `coordinates_list`. Your final result should look like this:\n",
    "\n",
    "`[{'location_id': '423025', 'coordinates': [12.486137, 41.891775]}, {'location_id': '550595', 'coordinates': [26.238889, 39.9575]}, {'location_id': '314921', 'coordinates': [10.312944, 36.847009]}, {'location_id': '60406/', 'coordinates': [71.06148, 29.2389543]}, {'location_id': '79574/', 'coordinates': [-0.088949, 51.513335]}]`\n",
    "\n",
    "Hint: The location id can be found in the url, you will need to isolate it somehow.\n",
    "\n",
    "Bonus task: Find the location name and include it in your dictionary.\n",
    "\n"
   ]
  },
  {
   "cell_type": "markdown",
   "metadata": {},
   "source": [
    "## Solution"
   ]
  },
  {
   "cell_type": "code",
   "execution_count": 86,
   "metadata": {},
   "outputs": [],
   "source": [
    "import requests\n",
    "import json\n",
    "\n"
   ]
  },
  {
   "cell_type": "code",
   "execution_count": 155,
   "metadata": {},
   "outputs": [],
   "source": [
    "# This code will import the data you need and convert it to a dictionary.\n",
    "# You do not need to understand this code.\n",
    "import requests  # import code to get information from the web\n",
    "import json  # import code to change a string to a dictionary\n",
    "url = 'https://pleiades.stoa.org/places/314921/json'  # url for data\n",
    "response = requests.get(url)  # this returns a Python object representing the webpage\n",
    "raw = response.text  # extract the raw text (string) from response object\n",
    "data = json.loads(raw)  # convert string to dictionary"
   ]
  },
  {
   "cell_type": "code",
   "execution_count": 3,
   "metadata": {},
   "outputs": [],
   "source": [
    "# How to use requests\n",
    "url = \"https://pleiades.stoa.org/places/423025/json\"  # set your url\n",
    "response = requests.get(url)  # use requests.get() to get a response object\n",
    "text = response.text  # extract the text from the response object using the text attributeb"
   ]
  },
  {
   "cell_type": "code",
   "execution_count": 4,
   "metadata": {},
   "outputs": [
    {
     "data": {
      "text/plain": [
       "'s.sto'"
      ]
     },
     "execution_count": 4,
     "metadata": {},
     "output_type": "execute_result"
    }
   ],
   "source": [
    "url[15:20]"
   ]
  },
  {
   "cell_type": "code",
   "execution_count": 65,
   "metadata": {},
   "outputs": [],
   "source": [
    "id = url.split('/')"
   ]
  },
  {
   "cell_type": "code",
   "execution_count": 42,
   "metadata": {},
   "outputs": [
    {
     "data": {
      "text/plain": [
       "'423025'"
      ]
     },
     "execution_count": 42,
     "metadata": {},
     "output_type": "execute_result"
    }
   ],
   "source": [
    "id[4]"
   ]
  },
  {
   "cell_type": "code",
   "execution_count": 107,
   "metadata": {},
   "outputs": [],
   "source": [
    "# The data you get from the pleiades url will techincally be a string even though it looks like a dictionary.\n",
    "# You can use the json library to convert the string to a dictionary\n",
    "data = json.loads(text)  # json.loads will convert the string to a dictionary. The \"s\" on the end of \"loads\" indicates a string"
   ]
  },
  {
   "cell_type": "code",
   "execution_count": null,
   "metadata": {},
   "outputs": [],
   "source": [
    "urls = [\n",
    "    'https://pleiades.stoa.org/places/423025/json',\n",
    "    'https://pleiades.stoa.org/places/550595/json',\n",
    "    'https://pleiades.stoa.org/places/314921/json',\n",
    "    'https://pleiades.stoa.org/places/60406/json',\n",
    "    'https://pleiades.stoa.org/places/79574/json',\n",
    "]"
   ]
  },
  {
   "cell_type": "code",
   "execution_count": 2,
   "metadata": {},
   "outputs": [],
   "source": [
    "### Correct Attempt for Functions Challenge"
   ]
  },
  {
   "cell_type": "code",
   "execution_count": 3,
   "metadata": {},
   "outputs": [],
   "source": [
    "import requests\n",
    "import json"
   ]
  },
  {
   "cell_type": "code",
   "execution_count": 4,
   "metadata": {},
   "outputs": [],
   "source": [
    "def get_location(url):\n",
    "    \"\"\"Return a string with information about location\"\"\"\n",
    "    response = requests.get(url)\n",
    "    raw = response.text\n",
    "    data = json.loads(raw)\n",
    "    location_id = url.split('/')[4]\n",
    "    c1 = data['features'][0]['geometry'] ['coordinates'][0]\n",
    "    c2 = data['features'][0]['geometry'] ['coordinates'][1] \n",
    "    location_dict = {} \n",
    "    location_dict['location_id'] = location_id\n",
    "    location_dict['coordinates'] = [c1, c2]\n",
    "    return location_dict"
   ]
  },
  {
   "cell_type": "code",
   "execution_count": 5,
   "metadata": {},
   "outputs": [],
   "source": [
    "results = get_location('https://pleiades.stoa.org/places/60406/json')"
   ]
  },
  {
   "cell_type": "code",
   "execution_count": 6,
   "metadata": {},
   "outputs": [
    {
     "name": "stdout",
     "output_type": "stream",
     "text": [
      "{'location_id': '60406', 'coordinates': [71.06148, 29.2389543]}\n"
     ]
    }
   ],
   "source": [
    "print(results)"
   ]
  },
  {
   "cell_type": "code",
   "execution_count": 7,
   "metadata": {},
   "outputs": [],
   "source": [
    "urls = [\n",
    "    'https://pleiades.stoa.org/places/423025/json',\n",
    "    'https://pleiades.stoa.org/places/550595/json',\n",
    "    'https://pleiades.stoa.org/places/314921/json',\n",
    "    'https://pleiades.stoa.org/places/60406/json',\n",
    "    'https://pleiades.stoa.org/places/79574/json',\n",
    "]"
   ]
  },
  {
   "cell_type": "code",
   "execution_count": 8,
   "metadata": {},
   "outputs": [],
   "source": [
    "coord_list = []"
   ]
  },
  {
   "cell_type": "code",
   "execution_count": 9,
   "metadata": {},
   "outputs": [],
   "source": [
    "for url in urls:\n",
    "    results = get_location(url)\n",
    "    coord_list.append(results)  ## append adds smthing to a list"
   ]
  },
  {
   "cell_type": "code",
   "execution_count": 10,
   "metadata": {},
   "outputs": [
    {
     "name": "stdout",
     "output_type": "stream",
     "text": [
      "[{'location_id': '423025', 'coordinates': [12.486137, 41.891775]}, {'location_id': '550595', 'coordinates': [26.238889, 39.9575]}, {'location_id': '314921', 'coordinates': [10.323056, 36.853056]}, {'location_id': '60406', 'coordinates': [71.06148, 29.2389543]}, {'location_id': '79574', 'coordinates': [-0.088949, 51.513335]}]\n"
     ]
    }
   ],
   "source": [
    "print(coord_list)"
   ]
  },
  {
   "cell_type": "code",
   "execution_count": null,
   "metadata": {},
   "outputs": [],
   "source": []
  }
 ],
 "metadata": {
  "kernelspec": {
   "display_name": "Python 3 (ipykernel)",
   "language": "python",
   "name": "python3"
  },
  "language_info": {
   "codemirror_mode": {
    "name": "ipython",
    "version": 3
   },
   "file_extension": ".py",
   "mimetype": "text/x-python",
   "name": "python",
   "nbconvert_exporter": "python",
   "pygments_lexer": "ipython3",
   "version": "3.11.4"
  }
 },
 "nbformat": 4,
 "nbformat_minor": 4
}
