{
 "cells": [
  {
   "cell_type": "code",
   "execution_count": 3,
   "id": "adbafc7a",
   "metadata": {},
   "outputs": [],
   "source": [
    "def get_location_id(url):\n",
    "    \"\"\"Return a string with information about the coordinates\"\"\"\n",
    "    url = {'location_id': url.split('/')[4], 'c1': data['features'][0]['geometry'] ['coordinates'][0], 'c2': data['features'][0]['geometry'] ['coordinates'][1]}\n",
    "    return url"
   ]
  },
  {
   "cell_type": "code",
   "execution_count": 4,
   "id": "dd416184",
   "metadata": {},
   "outputs": [
    {
     "ename": "NameError",
     "evalue": "name 'url_1' is not defined",
     "output_type": "error",
     "traceback": [
      "\u001b[0;31m---------------------------------------------------------------------------\u001b[0m",
      "\u001b[0;31mNameError\u001b[0m                                 Traceback (most recent call last)",
      "Cell \u001b[0;32mIn[4], line 1\u001b[0m\n\u001b[0;32m----> 1\u001b[0m get_location_id(url_1)\n",
      "\u001b[0;31mNameError\u001b[0m: name 'url_1' is not defined"
     ]
    }
   ],
   "source": [
    "get_location_id(url_1)"
   ]
  },
  {
   "cell_type": "code",
   "execution_count": 54,
   "id": "fab47e90",
   "metadata": {},
   "outputs": [
    {
     "data": {
      "text/plain": [
       "{'location_id': '423025', 'c1': -0.088949, 'c2': 51.513335}"
      ]
     },
     "execution_count": 54,
     "metadata": {},
     "output_type": "execute_result"
    }
   ],
   "source": [
    "get_location_id(url_2)"
   ]
  },
  {
   "cell_type": "code",
   "execution_count": 17,
   "id": "cb5c1c6c",
   "metadata": {},
   "outputs": [],
   "source": [
    "import requests\n",
    "import json"
   ]
  },
  {
   "cell_type": "code",
   "execution_count": 34,
   "id": "b7c97a5e",
   "metadata": {},
   "outputs": [],
   "source": [
    "def get_location(url):\n",
    "    \"\"\"Return a string with information about location\"\"\"\n",
    "    response = requests.get(url)\n",
    "    raw = response.text\n",
    "    data = json.loads(raw)\n",
    "    location_id = url.split('/')[4]\n",
    "    c1 = data['features'][0]['geometry'] ['coordinates'][0]\n",
    "    c2 = data['features'][0]['geometry'] ['coordinates'][1] \n",
    "    location_dict = {} \n",
    "    location_dict['location_id'] = location_id\n",
    "    location_dict['coordinates'] = [c1, c2]\n",
    "    return location_dict"
   ]
  },
  {
   "cell_type": "code",
   "execution_count": 35,
   "id": "12797680",
   "metadata": {},
   "outputs": [],
   "source": [
    "results = get_location('https://pleiades.stoa.org/places/60406/json')"
   ]
  },
  {
   "cell_type": "code",
   "execution_count": 27,
   "id": "ead73453",
   "metadata": {},
   "outputs": [
    {
     "name": "stdout",
     "output_type": "stream",
     "text": [
      "{'location_id': '60406', 'coordinates': [71.06148, 29.2389543]}\n"
     ]
    }
   ],
   "source": [
    "print(results)"
   ]
  },
  {
   "cell_type": "code",
   "execution_count": 28,
   "id": "bbefd5c1",
   "metadata": {},
   "outputs": [],
   "source": [
    "urls = [\n",
    "    'https://pleiades.stoa.org/places/423025/json',\n",
    "    'https://pleiades.stoa.org/places/550595/json',\n",
    "    'https://pleiades.stoa.org/places/314921/json',\n",
    "    'https://pleiades.stoa.org/places/60406/json',\n",
    "    'https://pleiades.stoa.org/places/79574/json',\n",
    "]"
   ]
  },
  {
   "cell_type": "code",
   "execution_count": 41,
   "id": "d160b46e",
   "metadata": {},
   "outputs": [],
   "source": [
    "coord_list = []"
   ]
  },
  {
   "cell_type": "code",
   "execution_count": 43,
   "id": "27cec680",
   "metadata": {},
   "outputs": [],
   "source": [
    "for url in urls:\n",
    "    results = get_location(url)\n",
    "    coord_list.append(results)  ## append adds smthing to a list"
   ]
  },
  {
   "cell_type": "code",
   "execution_count": 44,
   "id": "d5bd0ce7",
   "metadata": {},
   "outputs": [
    {
     "name": "stdout",
     "output_type": "stream",
     "text": [
      "[{'location_id': '423025', 'coordinates': [12.486137, 41.891775]}, {'location_id': '550595', 'coordinates': [26.238889, 39.9575]}, {'location_id': '314921', 'coordinates': [10.323056, 36.853056]}, {'location_id': '60406', 'coordinates': [71.06148, 29.2389543]}, {'location_id': '79574', 'coordinates': [-0.088949, 51.513335]}, {'location_id': '423025', 'coordinates': [12.486137, 41.891775]}, {'location_id': '550595', 'coordinates': [26.238889, 39.9575]}, {'location_id': '314921', 'coordinates': [10.323056, 36.853056]}, {'location_id': '60406', 'coordinates': [71.06148, 29.2389543]}, {'location_id': '79574', 'coordinates': [-0.088949, 51.513335]}]\n"
     ]
    }
   ],
   "source": [
    "print(coord_list)"
   ]
  },
  {
   "cell_type": "code",
   "execution_count": null,
   "id": "fce265e2",
   "metadata": {},
   "outputs": [],
   "source": []
  }
 ],
 "metadata": {
  "kernelspec": {
   "display_name": "Python 3 (ipykernel)",
   "language": "python",
   "name": "python3"
  },
  "language_info": {
   "codemirror_mode": {
    "name": "ipython",
    "version": 3
   },
   "file_extension": ".py",
   "mimetype": "text/x-python",
   "name": "python",
   "nbconvert_exporter": "python",
   "pygments_lexer": "ipython3",
   "version": "3.11.4"
  }
 },
 "nbformat": 4,
 "nbformat_minor": 5
}
